{
 "cells": [
  {
   "cell_type": "code",
   "execution_count": 148,
   "id": "a83c045a",
   "metadata": {},
   "outputs": [],
   "source": [
    "# Librairies\n",
    "import pandas as pd\n",
    "import numpy as np\n",
    "import matplotlib.pyplot as plt #faire des graphes \n",
    "import seaborn as sns # faire des graphiques plus jolis\n",
    "import sklearn as sk"
   ]
  },
  {
   "cell_type": "code",
   "execution_count": 149,
   "id": "f4d28540",
   "metadata": {},
   "outputs": [],
   "source": [
    "import os\n",
    "\n",
    "os.getcwd()\n",
    "\n",
    "## Changer le répertoire de travail\n",
    "os.chdir(r'C:\\Users\\admin\\Desktop\\ISE_22\\ML_Project')\n",
    "\n",
    "# Lire les fichiers CSV et les charger dans des dataframes\n",
    "\n",
    "item_categories = pd.read_csv('item_categories.csv')\n",
    "\n",
    "items = pd.read_csv('items.csv')\n",
    "\n",
    "sales_train = pd.read_csv('sales_train.csv')\n",
    "\n",
    "sample_submission = sample_submission = pd.read_csv('sample_submission.csv')\n",
    "\n",
    "shops = pd.read_csv('shops.csv')\n",
    "\n",
    "test = pd.read_csv('test.csv')"
   ]
  },
  {
   "cell_type": "code",
   "execution_count": 309,
   "id": "723fb8e8",
   "metadata": {
    "scrolled": true
   },
   "outputs": [
    {
     "data": {
      "text/html": [
       "<div>\n",
       "<style scoped>\n",
       "    .dataframe tbody tr th:only-of-type {\n",
       "        vertical-align: middle;\n",
       "    }\n",
       "\n",
       "    .dataframe tbody tr th {\n",
       "        vertical-align: top;\n",
       "    }\n",
       "\n",
       "    .dataframe thead th {\n",
       "        text-align: right;\n",
       "    }\n",
       "</style>\n",
       "<table border=\"1\" class=\"dataframe\">\n",
       "  <thead>\n",
       "    <tr style=\"text-align: right;\">\n",
       "      <th></th>\n",
       "      <th>ID</th>\n",
       "      <th>item_cnt_month</th>\n",
       "    </tr>\n",
       "  </thead>\n",
       "  <tbody>\n",
       "    <tr>\n",
       "      <th>0</th>\n",
       "      <td>0</td>\n",
       "      <td>0.5</td>\n",
       "    </tr>\n",
       "    <tr>\n",
       "      <th>1</th>\n",
       "      <td>1</td>\n",
       "      <td>0.5</td>\n",
       "    </tr>\n",
       "    <tr>\n",
       "      <th>2</th>\n",
       "      <td>2</td>\n",
       "      <td>0.5</td>\n",
       "    </tr>\n",
       "    <tr>\n",
       "      <th>3</th>\n",
       "      <td>3</td>\n",
       "      <td>0.5</td>\n",
       "    </tr>\n",
       "    <tr>\n",
       "      <th>4</th>\n",
       "      <td>4</td>\n",
       "      <td>0.5</td>\n",
       "    </tr>\n",
       "    <tr>\n",
       "      <th>5</th>\n",
       "      <td>5</td>\n",
       "      <td>0.5</td>\n",
       "    </tr>\n",
       "    <tr>\n",
       "      <th>6</th>\n",
       "      <td>6</td>\n",
       "      <td>0.5</td>\n",
       "    </tr>\n",
       "    <tr>\n",
       "      <th>7</th>\n",
       "      <td>7</td>\n",
       "      <td>0.5</td>\n",
       "    </tr>\n",
       "    <tr>\n",
       "      <th>8</th>\n",
       "      <td>8</td>\n",
       "      <td>0.5</td>\n",
       "    </tr>\n",
       "    <tr>\n",
       "      <th>9</th>\n",
       "      <td>9</td>\n",
       "      <td>0.5</td>\n",
       "    </tr>\n",
       "    <tr>\n",
       "      <th>10</th>\n",
       "      <td>10</td>\n",
       "      <td>0.5</td>\n",
       "    </tr>\n",
       "    <tr>\n",
       "      <th>11</th>\n",
       "      <td>11</td>\n",
       "      <td>0.5</td>\n",
       "    </tr>\n",
       "    <tr>\n",
       "      <th>12</th>\n",
       "      <td>12</td>\n",
       "      <td>0.5</td>\n",
       "    </tr>\n",
       "    <tr>\n",
       "      <th>13</th>\n",
       "      <td>13</td>\n",
       "      <td>0.5</td>\n",
       "    </tr>\n",
       "    <tr>\n",
       "      <th>14</th>\n",
       "      <td>14</td>\n",
       "      <td>0.5</td>\n",
       "    </tr>\n",
       "  </tbody>\n",
       "</table>\n",
       "</div>"
      ],
      "text/plain": [
       "    ID  item_cnt_month\n",
       "0    0             0.5\n",
       "1    1             0.5\n",
       "2    2             0.5\n",
       "3    3             0.5\n",
       "4    4             0.5\n",
       "5    5             0.5\n",
       "6    6             0.5\n",
       "7    7             0.5\n",
       "8    8             0.5\n",
       "9    9             0.5\n",
       "10  10             0.5\n",
       "11  11             0.5\n",
       "12  12             0.5\n",
       "13  13             0.5\n",
       "14  14             0.5"
      ]
     },
     "execution_count": 309,
     "metadata": {},
     "output_type": "execute_result"
    }
   ],
   "source": [
    "sample_submission.head()"
   ]
  },
  {
   "cell_type": "code",
   "execution_count": 310,
   "id": "8f5b67d4",
   "metadata": {},
   "outputs": [
    {
     "data": {
      "text/html": [
       "<div>\n",
       "<style scoped>\n",
       "    .dataframe tbody tr th:only-of-type {\n",
       "        vertical-align: middle;\n",
       "    }\n",
       "\n",
       "    .dataframe tbody tr th {\n",
       "        vertical-align: top;\n",
       "    }\n",
       "\n",
       "    .dataframe thead th {\n",
       "        text-align: right;\n",
       "    }\n",
       "</style>\n",
       "<table border=\"1\" class=\"dataframe\">\n",
       "  <thead>\n",
       "    <tr style=\"text-align: right;\">\n",
       "      <th></th>\n",
       "      <th>ID</th>\n",
       "      <th>shop_id</th>\n",
       "      <th>item_id</th>\n",
       "    </tr>\n",
       "  </thead>\n",
       "  <tbody>\n",
       "    <tr>\n",
       "      <th>0</th>\n",
       "      <td>0</td>\n",
       "      <td>5</td>\n",
       "      <td>5037</td>\n",
       "    </tr>\n",
       "    <tr>\n",
       "      <th>1</th>\n",
       "      <td>1</td>\n",
       "      <td>5</td>\n",
       "      <td>5320</td>\n",
       "    </tr>\n",
       "    <tr>\n",
       "      <th>2</th>\n",
       "      <td>2</td>\n",
       "      <td>5</td>\n",
       "      <td>5233</td>\n",
       "    </tr>\n",
       "    <tr>\n",
       "      <th>3</th>\n",
       "      <td>3</td>\n",
       "      <td>5</td>\n",
       "      <td>5232</td>\n",
       "    </tr>\n",
       "    <tr>\n",
       "      <th>4</th>\n",
       "      <td>4</td>\n",
       "      <td>5</td>\n",
       "      <td>5268</td>\n",
       "    </tr>\n",
       "  </tbody>\n",
       "</table>\n",
       "</div>"
      ],
      "text/plain": [
       "   ID  shop_id  item_id\n",
       "0   0        5     5037\n",
       "1   1        5     5320\n",
       "2   2        5     5233\n",
       "3   3        5     5232\n",
       "4   4        5     5268"
      ]
     },
     "execution_count": 310,
     "metadata": {},
     "output_type": "execute_result"
    }
   ],
   "source": [
    "test.head()"
   ]
  },
  {
   "cell_type": "markdown",
   "id": "8bf86030",
   "metadata": {},
   "source": [
    "## Preprocessing"
   ]
  },
  {
   "cell_type": "code",
   "execution_count": 150,
   "id": "f41eccaf",
   "metadata": {},
   "outputs": [
    {
     "data": {
      "text/plain": [
       "date               object\n",
       "date_block_num      int64\n",
       "shop_id             int64\n",
       "item_id             int64\n",
       "item_price        float64\n",
       "item_cnt_day        int64\n",
       "dtype: object"
      ]
     },
     "execution_count": 150,
     "metadata": {},
     "output_type": "execute_result"
    }
   ],
   "source": [
    "# convertir la target en integer\n",
    "sales_train['item_cnt_day'] = sales_train['item_cnt_day'].astype(np.int64)\n",
    "sales_train.dtypes"
   ]
  },
  {
   "cell_type": "markdown",
   "id": "1ec7c314",
   "metadata": {},
   "source": [
    "#### On constate que la valeur minimale de la variable item_cnt_day est -22 et celle de item_price -1\n",
    "#### Supposons qu'il s'agit d'une erreur de saisie et appliquons la valeur absolue sur ces variables"
   ]
  },
  {
   "cell_type": "code",
   "execution_count": 151,
   "id": "986a3386",
   "metadata": {},
   "outputs": [
    {
     "data": {
      "text/html": [
       "<div>\n",
       "<style scoped>\n",
       "    .dataframe tbody tr th:only-of-type {\n",
       "        vertical-align: middle;\n",
       "    }\n",
       "\n",
       "    .dataframe tbody tr th {\n",
       "        vertical-align: top;\n",
       "    }\n",
       "\n",
       "    .dataframe thead th {\n",
       "        text-align: right;\n",
       "    }\n",
       "</style>\n",
       "<table border=\"1\" class=\"dataframe\">\n",
       "  <thead>\n",
       "    <tr style=\"text-align: right;\">\n",
       "      <th></th>\n",
       "      <th>date_block_num</th>\n",
       "      <th>shop_id</th>\n",
       "      <th>item_id</th>\n",
       "      <th>item_price</th>\n",
       "      <th>item_cnt_day</th>\n",
       "    </tr>\n",
       "  </thead>\n",
       "  <tbody>\n",
       "    <tr>\n",
       "      <th>count</th>\n",
       "      <td>2.935849e+06</td>\n",
       "      <td>2.935849e+06</td>\n",
       "      <td>2.935849e+06</td>\n",
       "      <td>2.935849e+06</td>\n",
       "      <td>2.935849e+06</td>\n",
       "    </tr>\n",
       "    <tr>\n",
       "      <th>mean</th>\n",
       "      <td>1.456991e+01</td>\n",
       "      <td>3.300173e+01</td>\n",
       "      <td>1.019723e+04</td>\n",
       "      <td>8.908532e+02</td>\n",
       "      <td>1.247778e+00</td>\n",
       "    </tr>\n",
       "    <tr>\n",
       "      <th>std</th>\n",
       "      <td>9.422988e+00</td>\n",
       "      <td>1.622697e+01</td>\n",
       "      <td>6.324297e+03</td>\n",
       "      <td>1.729800e+03</td>\n",
       "      <td>2.616391e+00</td>\n",
       "    </tr>\n",
       "    <tr>\n",
       "      <th>min</th>\n",
       "      <td>0.000000e+00</td>\n",
       "      <td>0.000000e+00</td>\n",
       "      <td>0.000000e+00</td>\n",
       "      <td>7.000000e-02</td>\n",
       "      <td>1.000000e+00</td>\n",
       "    </tr>\n",
       "    <tr>\n",
       "      <th>25%</th>\n",
       "      <td>7.000000e+00</td>\n",
       "      <td>2.200000e+01</td>\n",
       "      <td>4.476000e+03</td>\n",
       "      <td>2.490000e+02</td>\n",
       "      <td>1.000000e+00</td>\n",
       "    </tr>\n",
       "    <tr>\n",
       "      <th>50%</th>\n",
       "      <td>1.400000e+01</td>\n",
       "      <td>3.100000e+01</td>\n",
       "      <td>9.343000e+03</td>\n",
       "      <td>3.990000e+02</td>\n",
       "      <td>1.000000e+00</td>\n",
       "    </tr>\n",
       "    <tr>\n",
       "      <th>75%</th>\n",
       "      <td>2.300000e+01</td>\n",
       "      <td>4.700000e+01</td>\n",
       "      <td>1.568400e+04</td>\n",
       "      <td>9.990000e+02</td>\n",
       "      <td>1.000000e+00</td>\n",
       "    </tr>\n",
       "    <tr>\n",
       "      <th>max</th>\n",
       "      <td>3.300000e+01</td>\n",
       "      <td>5.900000e+01</td>\n",
       "      <td>2.216900e+04</td>\n",
       "      <td>3.079800e+05</td>\n",
       "      <td>2.169000e+03</td>\n",
       "    </tr>\n",
       "  </tbody>\n",
       "</table>\n",
       "</div>"
      ],
      "text/plain": [
       "       date_block_num       shop_id       item_id    item_price  item_cnt_day\n",
       "count    2.935849e+06  2.935849e+06  2.935849e+06  2.935849e+06  2.935849e+06\n",
       "mean     1.456991e+01  3.300173e+01  1.019723e+04  8.908532e+02  1.247778e+00\n",
       "std      9.422988e+00  1.622697e+01  6.324297e+03  1.729800e+03  2.616391e+00\n",
       "min      0.000000e+00  0.000000e+00  0.000000e+00  7.000000e-02  1.000000e+00\n",
       "25%      7.000000e+00  2.200000e+01  4.476000e+03  2.490000e+02  1.000000e+00\n",
       "50%      1.400000e+01  3.100000e+01  9.343000e+03  3.990000e+02  1.000000e+00\n",
       "75%      2.300000e+01  4.700000e+01  1.568400e+04  9.990000e+02  1.000000e+00\n",
       "max      3.300000e+01  5.900000e+01  2.216900e+04  3.079800e+05  2.169000e+03"
      ]
     },
     "execution_count": 151,
     "metadata": {},
     "output_type": "execute_result"
    }
   ],
   "source": [
    "sales_train[\"item_cnt_day\"] = np.abs(sales_train[\"item_cnt_day\"])\n",
    "sales_train[\"item_price\"] = np.abs(sales_train[\"item_price\"])\n",
    "\n",
    "sales_train.describe()"
   ]
  },
  {
   "cell_type": "markdown",
   "id": "2505d543",
   "metadata": {},
   "source": [
    "#### Examinons la présence des valeurs abérrantes"
   ]
  },
  {
   "cell_type": "code",
   "execution_count": 152,
   "id": "6604d561",
   "metadata": {},
   "outputs": [
    {
     "data": {
      "text/plain": [
       "<AxesSubplot:xlabel='item_price'>"
      ]
     },
     "execution_count": 152,
     "metadata": {},
     "output_type": "execute_result"
    },
    {
     "data": {
      "image/png": "[encoded data removed]",
      "text/plain": [
       "<Figure size 720x288 with 1 Axes>"
      ]
     },
     "metadata": {
      "needs_background": "light"
     },
     "output_type": "display_data"
    },
    {
     "data": {
      "image/png": "[encoded data removed]",
      "text/plain": [
       "<Figure size 720x288 with 1 Axes>"
      ]
     },
     "metadata": {
      "needs_background": "light"
     },
     "output_type": "display_data"
    }
   ],
   "source": [
    "plt.figure(figsize=(10,4))\n",
    "plt.xlim(-100, 3000)\n",
    "sns.boxplot(x=sales_train.item_cnt_day)\n",
    "\n",
    "plt.figure(figsize=(10,4))\n",
    "plt.xlim(sales_train.item_price.min(), sales_train.item_price.max()*1.1)\n",
    "sns.boxplot(x=sales_train.item_price)"
   ]
  },
  {
   "cell_type": "code",
   "execution_count": 153,
   "id": "f672d27e",
   "metadata": {},
   "outputs": [
    {
     "data": {
      "image/png": "[encoded data removed]",
      "text/plain": [
       "<Figure size 432x288 with 2 Axes>"
      ]
     },
     "metadata": {
      "needs_background": "light"
     },
     "output_type": "display_data"
    }
   ],
   "source": [
    "fig, axes = plt.subplots(2, 1)\n",
    "plt.subplots_adjust(hspace=0.5)\n",
    "\n",
    "flierprops = dict(marker='o', markerfacecolor='cornflowerblue', markersize=6, markeredgecolor='navy')\n",
    "\n",
    "_ = axes[0].boxplot(x=sales_train.item_cnt_day, flierprops=flierprops, vert=False)\n",
    "_ = axes[1].boxplot(x=sales_train.item_price, flierprops=flierprops, vert=False)\n",
    "\n",
    "_ = axes[0].set_title('item_cnt_day')\n",
    "_ = axes[1].set_title('item_price')"
   ]
  },
  {
   "cell_type": "code",
   "execution_count": 154,
   "id": "344f707d",
   "metadata": {},
   "outputs": [],
   "source": [
    "sales_train = sales_train[sales_train.item_price<100000]\n",
    "sales_train = sales_train[sales_train.item_cnt_day<1001]\n",
    "sales_train=sales_train[sales_train['item_price'] > 0]\n",
    "sales_train = sales_train[sales_train['item_cnt_day'] > 0]"
   ]
  },
  {
   "cell_type": "markdown",
   "id": "96d1bd1c",
   "metadata": {},
   "source": []
  },
  {
   "cell_type": "code",
   "execution_count": 155,
   "id": "8bb816df",
   "metadata": {},
   "outputs": [],
   "source": [
    "sales_train['revenue'] = sales_train['item_price']*sales_train['item_cnt_day']"
   ]
  },
  {
   "cell_type": "code",
   "execution_count": 156,
   "id": "bc54d0b6",
   "metadata": {},
   "outputs": [
    {
     "data": {
      "text/html": [
       "<div>\n",
       "<style scoped>\n",
       "    .dataframe tbody tr th:only-of-type {\n",
       "        vertical-align: middle;\n",
       "    }\n",
       "\n",
       "    .dataframe tbody tr th {\n",
       "        vertical-align: top;\n",
       "    }\n",
       "\n",
       "    .dataframe thead th {\n",
       "        text-align: right;\n",
       "    }\n",
       "</style>\n",
       "<table border=\"1\" class=\"dataframe\">\n",
       "  <thead>\n",
       "    <tr style=\"text-align: right;\">\n",
       "      <th></th>\n",
       "      <th>date</th>\n",
       "      <th>date_block_num</th>\n",
       "      <th>shop_id</th>\n",
       "      <th>item_id</th>\n",
       "      <th>item_price</th>\n",
       "      <th>item_cnt_day</th>\n",
       "      <th>revenue</th>\n",
       "    </tr>\n",
       "  </thead>\n",
       "  <tbody>\n",
       "    <tr>\n",
       "      <th>0</th>\n",
       "      <td>02.01.2013</td>\n",
       "      <td>0</td>\n",
       "      <td>59</td>\n",
       "      <td>22154</td>\n",
       "      <td>999.00</td>\n",
       "      <td>1</td>\n",
       "      <td>999.00</td>\n",
       "    </tr>\n",
       "    <tr>\n",
       "      <th>1</th>\n",
       "      <td>03.01.2013</td>\n",
       "      <td>0</td>\n",
       "      <td>25</td>\n",
       "      <td>2552</td>\n",
       "      <td>899.00</td>\n",
       "      <td>1</td>\n",
       "      <td>899.00</td>\n",
       "    </tr>\n",
       "    <tr>\n",
       "      <th>2</th>\n",
       "      <td>05.01.2013</td>\n",
       "      <td>0</td>\n",
       "      <td>25</td>\n",
       "      <td>2552</td>\n",
       "      <td>899.00</td>\n",
       "      <td>1</td>\n",
       "      <td>899.00</td>\n",
       "    </tr>\n",
       "    <tr>\n",
       "      <th>3</th>\n",
       "      <td>06.01.2013</td>\n",
       "      <td>0</td>\n",
       "      <td>25</td>\n",
       "      <td>2554</td>\n",
       "      <td>1709.05</td>\n",
       "      <td>1</td>\n",
       "      <td>1709.05</td>\n",
       "    </tr>\n",
       "    <tr>\n",
       "      <th>4</th>\n",
       "      <td>15.01.2013</td>\n",
       "      <td>0</td>\n",
       "      <td>25</td>\n",
       "      <td>2555</td>\n",
       "      <td>1099.00</td>\n",
       "      <td>1</td>\n",
       "      <td>1099.00</td>\n",
       "    </tr>\n",
       "  </tbody>\n",
       "</table>\n",
       "</div>"
      ],
      "text/plain": [
       "         date  date_block_num  shop_id  item_id  item_price  item_cnt_day  \\\n",
       "0  02.01.2013               0       59    22154      999.00             1   \n",
       "1  03.01.2013               0       25     2552      899.00             1   \n",
       "2  05.01.2013               0       25     2552      899.00             1   \n",
       "3  06.01.2013               0       25     2554     1709.05             1   \n",
       "4  15.01.2013               0       25     2555     1099.00             1   \n",
       "\n",
       "   revenue  \n",
       "0   999.00  \n",
       "1   899.00  \n",
       "2   899.00  \n",
       "3  1709.05  \n",
       "4  1099.00  "
      ]
     },
     "execution_count": 156,
     "metadata": {},
     "output_type": "execute_result"
    }
   ],
   "source": [
    "sales_train.head()"
   ]
  },
  {
   "cell_type": "code",
   "execution_count": 157,
   "id": "799440e1",
   "metadata": {},
   "outputs": [],
   "source": [
    "## Merge some duplicate shops\n",
    "sales_train[\"shop_id\"] = sales_train[\"shop_id\"].replace({0: 57, 1: 58, 11: 10, 40: 39})\n",
    "\n",
    "# Keep only shops that are in the test set\n",
    "sales_train = sales_train.loc[sales_train.shop_id.isin(test[\"shop_id\"].unique()), :]\n",
    "sales_train.dropna(axis=1,inplace=True)"
   ]
  },
  {
   "cell_type": "code",
   "execution_count": 158,
   "id": "8b51a885",
   "metadata": {},
   "outputs": [
    {
     "data": {
      "text/html": [
       "<div>\n",
       "<style scoped>\n",
       "    .dataframe tbody tr th:only-of-type {\n",
       "        vertical-align: middle;\n",
       "    }\n",
       "\n",
       "    .dataframe tbody tr th {\n",
       "        vertical-align: top;\n",
       "    }\n",
       "\n",
       "    .dataframe thead tr th {\n",
       "        text-align: left;\n",
       "    }\n",
       "</style>\n",
       "<table border=\"1\" class=\"dataframe\">\n",
       "  <thead>\n",
       "    <tr>\n",
       "      <th></th>\n",
       "      <th>date</th>\n",
       "      <th>item_cnt_day</th>\n",
       "    </tr>\n",
       "    <tr>\n",
       "      <th></th>\n",
       "      <th></th>\n",
       "      <th>sum</th>\n",
       "    </tr>\n",
       "  </thead>\n",
       "  <tbody>\n",
       "    <tr>\n",
       "      <th>0</th>\n",
       "      <td>01.01.2013</td>\n",
       "      <td>1121</td>\n",
       "    </tr>\n",
       "    <tr>\n",
       "      <th>1</th>\n",
       "      <td>01.01.2014</td>\n",
       "      <td>1392</td>\n",
       "    </tr>\n",
       "    <tr>\n",
       "      <th>2</th>\n",
       "      <td>01.01.2015</td>\n",
       "      <td>1392</td>\n",
       "    </tr>\n",
       "    <tr>\n",
       "      <th>3</th>\n",
       "      <td>01.02.2013</td>\n",
       "      <td>2960</td>\n",
       "    </tr>\n",
       "    <tr>\n",
       "      <th>4</th>\n",
       "      <td>01.02.2014</td>\n",
       "      <td>4459</td>\n",
       "    </tr>\n",
       "  </tbody>\n",
       "</table>\n",
       "</div>"
      ],
      "text/plain": [
       "         date item_cnt_day\n",
       "                       sum\n",
       "0  01.01.2013         1121\n",
       "1  01.01.2014         1392\n",
       "2  01.01.2015         1392\n",
       "3  01.02.2013         2960\n",
       "4  01.02.2014         4459"
      ]
     },
     "execution_count": 158,
     "metadata": {},
     "output_type": "execute_result"
    }
   ],
   "source": [
    "daily = sales_train[['date', 'date_block_num', 'shop_id', 'item_id', 'item_cnt_day']]\n",
    "daily = daily.groupby(['date'], as_index=False)\n",
    "daily = daily.agg({'item_cnt_day':['sum']})\n",
    "daily.head()"
   ]
  },
  {
   "cell_type": "code",
   "execution_count": 159,
   "id": "46d9092b",
   "metadata": {},
   "outputs": [
    {
     "name": "stderr",
     "output_type": "stream",
     "text": [
      "C:\\Users\\admin\\AppData\\Local\\Temp\\ipykernel_15716\\4086479650.py:5: PerformanceWarning: dropping on a non-lexsorted multi-index without a level parameter may impact performance.\n",
      "  monthly_per_shop = monthly_per_shop.drop(['item_cnt_day'], axis=1)\n"
     ]
    },
    {
     "data": {
      "text/html": [
       "<div>\n",
       "<style scoped>\n",
       "    .dataframe tbody tr th:only-of-type {\n",
       "        vertical-align: middle;\n",
       "    }\n",
       "\n",
       "    .dataframe tbody tr th {\n",
       "        vertical-align: top;\n",
       "    }\n",
       "\n",
       "    .dataframe thead tr th {\n",
       "        text-align: left;\n",
       "    }\n",
       "</style>\n",
       "<table border=\"1\" class=\"dataframe\">\n",
       "  <thead>\n",
       "    <tr>\n",
       "      <th></th>\n",
       "      <th>date_block_num</th>\n",
       "      <th>shop_id</th>\n",
       "      <th>item_cnt_month</th>\n",
       "    </tr>\n",
       "    <tr>\n",
       "      <th></th>\n",
       "      <th></th>\n",
       "      <th></th>\n",
       "      <th></th>\n",
       "    </tr>\n",
       "  </thead>\n",
       "  <tbody>\n",
       "    <tr>\n",
       "      <th>0</th>\n",
       "      <td>0</td>\n",
       "      <td>2</td>\n",
       "      <td>1156</td>\n",
       "    </tr>\n",
       "    <tr>\n",
       "      <th>1</th>\n",
       "      <td>0</td>\n",
       "      <td>3</td>\n",
       "      <td>767</td>\n",
       "    </tr>\n",
       "    <tr>\n",
       "      <th>2</th>\n",
       "      <td>0</td>\n",
       "      <td>4</td>\n",
       "      <td>2120</td>\n",
       "    </tr>\n",
       "    <tr>\n",
       "      <th>3</th>\n",
       "      <td>0</td>\n",
       "      <td>6</td>\n",
       "      <td>3712</td>\n",
       "    </tr>\n",
       "    <tr>\n",
       "      <th>4</th>\n",
       "      <td>0</td>\n",
       "      <td>7</td>\n",
       "      <td>2501</td>\n",
       "    </tr>\n",
       "  </tbody>\n",
       "</table>\n",
       "</div>"
      ],
      "text/plain": [
       "  date_block_num shop_id item_cnt_month\n",
       "                                       \n",
       "0              0       2           1156\n",
       "1              0       3            767\n",
       "2              0       4           2120\n",
       "3              0       6           3712\n",
       "4              0       7           2501"
      ]
     },
     "execution_count": 159,
     "metadata": {},
     "output_type": "execute_result"
    }
   ],
   "source": [
    "monthly_per_shop = sales_train[['date', 'date_block_num', 'shop_id', 'item_id', 'item_cnt_day']]\n",
    "monthly_per_shop = monthly_per_shop.groupby(['date_block_num','shop_id'], as_index=False)\n",
    "monthly_per_shop = monthly_per_shop.agg({'item_cnt_day':['sum']})\n",
    "monthly_per_shop['item_cnt_month']  = monthly_per_shop['item_cnt_day']['sum']\n",
    "monthly_per_shop = monthly_per_shop.drop(['item_cnt_day'], axis=1)\n",
    "monthly_per_shop.head()"
   ]
  },
  {
   "cell_type": "markdown",
   "id": "c9410573",
   "metadata": {},
   "source": [
    "#### Séparons la ville et le nom de la boutique"
   ]
  },
  {
   "cell_type": "code",
   "execution_count": 160,
   "id": "31f62b0c",
   "metadata": {},
   "outputs": [],
   "source": [
    "shops.loc[shops.shop_name == 'Сергиев Посад ТЦ \"7Я\"',\"shop_name\"] = 'СергиевПосад ТЦ \"7Я\"'"
   ]
  },
  {
   "cell_type": "code",
   "execution_count": 161,
   "id": "e0b035ad",
   "metadata": {},
   "outputs": [],
   "source": [
    "shops[\"city\"] = shops.shop_name.str.split(' ').map(lambda x: x[0])"
   ]
  },
  {
   "cell_type": "code",
   "execution_count": 162,
   "id": "56c698b3",
   "metadata": {},
   "outputs": [],
   "source": [
    "shops[\"shop_category\"] = shops.shop_name.str.split(\" \").map(lambda x: x[1])\n",
    "shops.loc[shops.city == \"!Якутск\", \"city\"] = \"Якутск\" "
   ]
  },
  {
   "cell_type": "code",
   "execution_count": 163,
   "id": "840bb73e",
   "metadata": {},
   "outputs": [],
   "source": [
    "from sklearn.preprocessing import LabelEncoder\n",
    "\n",
    "# Create Label Encoder\n",
    "label_encoder = LabelEncoder()\n",
    "# City Feature Label Encoding \n",
    "shops['city'] = label_encoder.fit_transform(shops['city'])\n",
    "# Shop Category Label Encoding \n",
    "shops['shop_category'] = label_encoder.fit_transform(shops['shop_category']) "
   ]
  },
  {
   "cell_type": "code",
   "execution_count": 164,
   "id": "c8a516b2",
   "metadata": {},
   "outputs": [
    {
     "data": {
      "text/html": [
       "<div>\n",
       "<style scoped>\n",
       "    .dataframe tbody tr th:only-of-type {\n",
       "        vertical-align: middle;\n",
       "    }\n",
       "\n",
       "    .dataframe tbody tr th {\n",
       "        vertical-align: top;\n",
       "    }\n",
       "\n",
       "    .dataframe thead th {\n",
       "        text-align: right;\n",
       "    }\n",
       "</style>\n",
       "<table border=\"1\" class=\"dataframe\">\n",
       "  <thead>\n",
       "    <tr style=\"text-align: right;\">\n",
       "      <th></th>\n",
       "      <th>shop_id</th>\n",
       "      <th>city</th>\n",
       "      <th>shop_category</th>\n",
       "    </tr>\n",
       "  </thead>\n",
       "  <tbody>\n",
       "    <tr>\n",
       "      <th>0</th>\n",
       "      <td>0</td>\n",
       "      <td>29</td>\n",
       "      <td>4</td>\n",
       "    </tr>\n",
       "    <tr>\n",
       "      <th>1</th>\n",
       "      <td>1</td>\n",
       "      <td>29</td>\n",
       "      <td>8</td>\n",
       "    </tr>\n",
       "    <tr>\n",
       "      <th>2</th>\n",
       "      <td>2</td>\n",
       "      <td>0</td>\n",
       "      <td>8</td>\n",
       "    </tr>\n",
       "    <tr>\n",
       "      <th>3</th>\n",
       "      <td>3</td>\n",
       "      <td>1</td>\n",
       "      <td>6</td>\n",
       "    </tr>\n",
       "    <tr>\n",
       "      <th>4</th>\n",
       "      <td>4</td>\n",
       "      <td>2</td>\n",
       "      <td>8</td>\n",
       "    </tr>\n",
       "  </tbody>\n",
       "</table>\n",
       "</div>"
      ],
      "text/plain": [
       "   shop_id  city  shop_category\n",
       "0        0    29              4\n",
       "1        1    29              8\n",
       "2        2     0              8\n",
       "3        3     1              6\n",
       "4        4     2              8"
      ]
     },
     "execution_count": 164,
     "metadata": {},
     "output_type": "execute_result"
    }
   ],
   "source": [
    "# Remove shop_name feature\n",
    "shops = shops.drop('shop_name', axis=1)\n",
    "\n",
    "shops.head()"
   ]
  },
  {
   "cell_type": "code",
   "execution_count": 165,
   "id": "dca34523",
   "metadata": {},
   "outputs": [],
   "source": [
    "items = items.drop(['item_name'], axis=1)"
   ]
  },
  {
   "cell_type": "code",
   "execution_count": 166,
   "id": "b8974e38",
   "metadata": {},
   "outputs": [
    {
     "data": {
      "text/html": [
       "<div>\n",
       "<style scoped>\n",
       "    .dataframe tbody tr th:only-of-type {\n",
       "        vertical-align: middle;\n",
       "    }\n",
       "\n",
       "    .dataframe tbody tr th {\n",
       "        vertical-align: top;\n",
       "    }\n",
       "\n",
       "    .dataframe thead th {\n",
       "        text-align: right;\n",
       "    }\n",
       "</style>\n",
       "<table border=\"1\" class=\"dataframe\">\n",
       "  <thead>\n",
       "    <tr style=\"text-align: right;\">\n",
       "      <th></th>\n",
       "      <th>item_id</th>\n",
       "      <th>item_category_id</th>\n",
       "      <th>first_sale_date</th>\n",
       "    </tr>\n",
       "  </thead>\n",
       "  <tbody>\n",
       "    <tr>\n",
       "      <th>0</th>\n",
       "      <td>0</td>\n",
       "      <td>40</td>\n",
       "      <td>NaN</td>\n",
       "    </tr>\n",
       "    <tr>\n",
       "      <th>1</th>\n",
       "      <td>1</td>\n",
       "      <td>76</td>\n",
       "      <td>15.0</td>\n",
       "    </tr>\n",
       "    <tr>\n",
       "      <th>2</th>\n",
       "      <td>2</td>\n",
       "      <td>40</td>\n",
       "      <td>NaN</td>\n",
       "    </tr>\n",
       "    <tr>\n",
       "      <th>3</th>\n",
       "      <td>3</td>\n",
       "      <td>40</td>\n",
       "      <td>NaN</td>\n",
       "    </tr>\n",
       "    <tr>\n",
       "      <th>4</th>\n",
       "      <td>4</td>\n",
       "      <td>40</td>\n",
       "      <td>NaN</td>\n",
       "    </tr>\n",
       "  </tbody>\n",
       "</table>\n",
       "</div>"
      ],
      "text/plain": [
       "   item_id  item_category_id  first_sale_date\n",
       "0        0                40              NaN\n",
       "1        1                76             15.0\n",
       "2        2                40              NaN\n",
       "3        3                40              NaN\n",
       "4        4                40              NaN"
      ]
     },
     "execution_count": 166,
     "metadata": {},
     "output_type": "execute_result"
    }
   ],
   "source": [
    "items['first_sale_date'] = sales_train.groupby('item_id').agg({'date_block_num': 'min'})['date_block_num']\n",
    "\n",
    "items.head()"
   ]
  },
  {
   "cell_type": "code",
   "execution_count": 167,
   "id": "689bebea",
   "metadata": {},
   "outputs": [
    {
     "data": {
      "text/html": [
       "<div>\n",
       "<style scoped>\n",
       "    .dataframe tbody tr th:only-of-type {\n",
       "        vertical-align: middle;\n",
       "    }\n",
       "\n",
       "    .dataframe tbody tr th {\n",
       "        vertical-align: top;\n",
       "    }\n",
       "\n",
       "    .dataframe thead th {\n",
       "        text-align: right;\n",
       "    }\n",
       "</style>\n",
       "<table border=\"1\" class=\"dataframe\">\n",
       "  <thead>\n",
       "    <tr style=\"text-align: right;\">\n",
       "      <th></th>\n",
       "      <th>item_id</th>\n",
       "      <th>item_category_id</th>\n",
       "      <th>first_sale_date</th>\n",
       "    </tr>\n",
       "  </thead>\n",
       "  <tbody>\n",
       "    <tr>\n",
       "      <th>0</th>\n",
       "      <td>0</td>\n",
       "      <td>40</td>\n",
       "      <td>NaN</td>\n",
       "    </tr>\n",
       "    <tr>\n",
       "      <th>2</th>\n",
       "      <td>2</td>\n",
       "      <td>40</td>\n",
       "      <td>NaN</td>\n",
       "    </tr>\n",
       "    <tr>\n",
       "      <th>3</th>\n",
       "      <td>3</td>\n",
       "      <td>40</td>\n",
       "      <td>NaN</td>\n",
       "    </tr>\n",
       "    <tr>\n",
       "      <th>4</th>\n",
       "      <td>4</td>\n",
       "      <td>40</td>\n",
       "      <td>NaN</td>\n",
       "    </tr>\n",
       "    <tr>\n",
       "      <th>5</th>\n",
       "      <td>5</td>\n",
       "      <td>40</td>\n",
       "      <td>NaN</td>\n",
       "    </tr>\n",
       "    <tr>\n",
       "      <th>...</th>\n",
       "      <td>...</td>\n",
       "      <td>...</td>\n",
       "      <td>...</td>\n",
       "    </tr>\n",
       "    <tr>\n",
       "      <th>21975</th>\n",
       "      <td>21975</td>\n",
       "      <td>61</td>\n",
       "      <td>NaN</td>\n",
       "    </tr>\n",
       "    <tr>\n",
       "      <th>22022</th>\n",
       "      <td>22022</td>\n",
       "      <td>40</td>\n",
       "      <td>NaN</td>\n",
       "    </tr>\n",
       "    <tr>\n",
       "      <th>22028</th>\n",
       "      <td>22028</td>\n",
       "      <td>40</td>\n",
       "      <td>NaN</td>\n",
       "    </tr>\n",
       "    <tr>\n",
       "      <th>22035</th>\n",
       "      <td>22035</td>\n",
       "      <td>40</td>\n",
       "      <td>NaN</td>\n",
       "    </tr>\n",
       "    <tr>\n",
       "      <th>22137</th>\n",
       "      <td>22137</td>\n",
       "      <td>40</td>\n",
       "      <td>NaN</td>\n",
       "    </tr>\n",
       "  </tbody>\n",
       "</table>\n",
       "<p>1085 rows × 3 columns</p>\n",
       "</div>"
      ],
      "text/plain": [
       "       item_id  item_category_id  first_sale_date\n",
       "0            0                40              NaN\n",
       "2            2                40              NaN\n",
       "3            3                40              NaN\n",
       "4            4                40              NaN\n",
       "5            5                40              NaN\n",
       "...        ...               ...              ...\n",
       "21975    21975                61              NaN\n",
       "22022    22022                40              NaN\n",
       "22028    22028                40              NaN\n",
       "22035    22035                40              NaN\n",
       "22137    22137                40              NaN\n",
       "\n",
       "[1085 rows x 3 columns]"
      ]
     },
     "execution_count": 167,
     "metadata": {},
     "output_type": "execute_result"
    }
   ],
   "source": [
    "items[items['first_sale_date'].isna()]"
   ]
  },
  {
   "cell_type": "code",
   "execution_count": 168,
   "id": "b89280d5",
   "metadata": {},
   "outputs": [],
   "source": [
    "# Replace NaN of first_sale_date with 34\n",
    "items['first_sale_date'] = items['first_sale_date'].fillna(34)"
   ]
  },
  {
   "cell_type": "code",
   "execution_count": 169,
   "id": "cde55a80",
   "metadata": {},
   "outputs": [
    {
     "data": {
      "text/plain": [
       "Игры          14\n",
       "Книги         13\n",
       "Подарки       12\n",
       "Игровые        8\n",
       "Аксессуары     7\n",
       "Музыка         6\n",
       "Программы      6\n",
       "Карты          5\n",
       "Кино           5\n",
       "Служебные      2\n",
       "Чистые         2\n",
       "PC             1\n",
       "Билеты         1\n",
       "Доставка       1\n",
       "Элементы       1\n",
       "Name: category, dtype: int64"
      ]
     },
     "execution_count": 169,
     "metadata": {},
     "output_type": "execute_result"
    }
   ],
   "source": [
    "item_categories['category'] = item_categories['item_category_name'].apply(lambda x: x.split()[0])  \n",
    "item_categories['category'].value_counts()"
   ]
  },
  {
   "cell_type": "code",
   "execution_count": 170,
   "id": "d647c9b2",
   "metadata": {},
   "outputs": [],
   "source": [
    "def make_etc(x):\n",
    "    if len(item_categories[item_categories['category']==x]) >= 5:\n",
    "        return x\n",
    "    else:\n",
    "        return 'etc'"
   ]
  },
  {
   "cell_type": "code",
   "execution_count": 171,
   "id": "4c341737",
   "metadata": {},
   "outputs": [],
   "source": [
    "# Replace with 'etc' if category count is less than 5\n",
    "item_categories['category'] = item_categories['category'].apply(make_etc) "
   ]
  },
  {
   "cell_type": "code",
   "execution_count": 174,
   "id": "ad15615f",
   "metadata": {},
   "outputs": [],
   "source": [
    "# Create Label Encoder\n",
    "label_encoder = LabelEncoder()"
   ]
  },
  {
   "cell_type": "code",
   "execution_count": 175,
   "id": "7f2ec0e9",
   "metadata": {},
   "outputs": [],
   "source": [
    "item_categories['category'] = label_encoder.fit_transform(item_categories['category'])"
   ]
  },
  {
   "cell_type": "code",
   "execution_count": 176,
   "id": "520a905d",
   "metadata": {},
   "outputs": [],
   "source": [
    "item_categories = item_categories.drop('item_category_name', axis=1)"
   ]
  },
  {
   "cell_type": "code",
   "execution_count": 177,
   "id": "86e0ca99",
   "metadata": {},
   "outputs": [],
   "source": [
    "from itertools import product\n",
    "\n",
    "train = []\n",
    "# Create date_block_num, shop_id, item_id combination\n",
    "for i in sales_train['date_block_num'].unique():\n",
    "    all_shop = sales_train.loc[sales_train['date_block_num']==i, 'shop_id'].unique()\n",
    "    all_item = sales_train.loc[sales_train['date_block_num']==i, 'item_id'].unique()\n",
    "    train.append(np.array(list(product([i], all_shop, all_item))))"
   ]
  },
  {
   "cell_type": "code",
   "execution_count": 178,
   "id": "8644ac13",
   "metadata": {},
   "outputs": [],
   "source": [
    "idx_features = ['date_block_num', 'shop_id', 'item_id'] # base features\n",
    "train = pd.DataFrame(np.vstack(train), columns=idx_features)"
   ]
  },
  {
   "cell_type": "code",
   "execution_count": 179,
   "id": "9b8674d4",
   "metadata": {},
   "outputs": [],
   "source": [
    "group = sales_train.groupby(idx_features).agg({'item_cnt_day': 'sum',\n",
    "                                               'item_price': 'mean'})\n",
    "group = group.reset_index()\n",
    "group = group.rename(columns={'item_cnt_day': 'item_cnt_month', 'item_price': 'item_price_mean'})"
   ]
  },
  {
   "cell_type": "code",
   "execution_count": 180,
   "id": "b3cb900b",
   "metadata": {},
   "outputs": [
    {
     "data": {
      "text/html": [
       "<div>\n",
       "<style scoped>\n",
       "    .dataframe tbody tr th:only-of-type {\n",
       "        vertical-align: middle;\n",
       "    }\n",
       "\n",
       "    .dataframe tbody tr th {\n",
       "        vertical-align: top;\n",
       "    }\n",
       "\n",
       "    .dataframe thead th {\n",
       "        text-align: right;\n",
       "    }\n",
       "</style>\n",
       "<table border=\"1\" class=\"dataframe\">\n",
       "  <thead>\n",
       "    <tr style=\"text-align: right;\">\n",
       "      <th></th>\n",
       "      <th>date_block_num</th>\n",
       "      <th>shop_id</th>\n",
       "      <th>item_id</th>\n",
       "      <th>item_cnt_month</th>\n",
       "      <th>item_price_mean</th>\n",
       "    </tr>\n",
       "  </thead>\n",
       "  <tbody>\n",
       "    <tr>\n",
       "      <th>0</th>\n",
       "      <td>0</td>\n",
       "      <td>59</td>\n",
       "      <td>22154</td>\n",
       "      <td>1.0</td>\n",
       "      <td>999.0</td>\n",
       "    </tr>\n",
       "    <tr>\n",
       "      <th>1</th>\n",
       "      <td>0</td>\n",
       "      <td>59</td>\n",
       "      <td>2552</td>\n",
       "      <td>NaN</td>\n",
       "      <td>NaN</td>\n",
       "    </tr>\n",
       "    <tr>\n",
       "      <th>2</th>\n",
       "      <td>0</td>\n",
       "      <td>59</td>\n",
       "      <td>2554</td>\n",
       "      <td>NaN</td>\n",
       "      <td>NaN</td>\n",
       "    </tr>\n",
       "    <tr>\n",
       "      <th>3</th>\n",
       "      <td>0</td>\n",
       "      <td>59</td>\n",
       "      <td>2555</td>\n",
       "      <td>NaN</td>\n",
       "      <td>NaN</td>\n",
       "    </tr>\n",
       "    <tr>\n",
       "      <th>4</th>\n",
       "      <td>0</td>\n",
       "      <td>59</td>\n",
       "      <td>2564</td>\n",
       "      <td>NaN</td>\n",
       "      <td>NaN</td>\n",
       "    </tr>\n",
       "  </tbody>\n",
       "</table>\n",
       "</div>"
      ],
      "text/plain": [
       "   date_block_num  shop_id  item_id  item_cnt_month  item_price_mean\n",
       "0               0       59    22154             1.0            999.0\n",
       "1               0       59     2552             NaN              NaN\n",
       "2               0       59     2554             NaN              NaN\n",
       "3               0       59     2555             NaN              NaN\n",
       "4               0       59     2564             NaN              NaN"
      ]
     },
     "execution_count": 180,
     "metadata": {},
     "output_type": "execute_result"
    }
   ],
   "source": [
    "train = train.merge(group, on=idx_features, how='left') \n",
    "train.head() "
   ]
  },
  {
   "cell_type": "markdown",
   "id": "f39b722a",
   "metadata": {},
   "source": [
    "import gc\n",
    "\n",
    "del group\n",
    "gc.collect();\n",
    "\n",
    "group = sales_train.groupby(idx_features).agg({'item_cnt_day': 'sum'})\n",
    "group = group.reset_index()\n",
    "group = group.rename(columns={'item_cnt_day': 'item_count'})\n",
    "\n",
    "train = train.merge(group, on=idx_features, how='left')\n",
    "\n",
    "del group, sales_train\n",
    "gc.collect()\n",
    "\n",
    "train.head()"
   ]
  },
  {
   "cell_type": "code",
   "execution_count": null,
   "id": "70e405b2",
   "metadata": {},
   "outputs": [],
   "source": []
  },
  {
   "cell_type": "code",
   "execution_count": 181,
   "id": "4fb77ae9",
   "metadata": {},
   "outputs": [
    {
     "data": {
      "text/html": [
       "<div>\n",
       "<style scoped>\n",
       "    .dataframe tbody tr th:only-of-type {\n",
       "        vertical-align: middle;\n",
       "    }\n",
       "\n",
       "    .dataframe tbody tr th {\n",
       "        vertical-align: top;\n",
       "    }\n",
       "\n",
       "    .dataframe thead th {\n",
       "        text-align: right;\n",
       "    }\n",
       "</style>\n",
       "<table border=\"1\" class=\"dataframe\">\n",
       "  <thead>\n",
       "    <tr style=\"text-align: right;\">\n",
       "      <th></th>\n",
       "      <th>date_block_num</th>\n",
       "      <th>shop_id</th>\n",
       "      <th>item_id</th>\n",
       "      <th>item_cnt_month</th>\n",
       "      <th>item_price_mean</th>\n",
       "    </tr>\n",
       "  </thead>\n",
       "  <tbody>\n",
       "    <tr>\n",
       "      <th>0</th>\n",
       "      <td>0</td>\n",
       "      <td>59</td>\n",
       "      <td>22154</td>\n",
       "      <td>1.0</td>\n",
       "      <td>999.0</td>\n",
       "    </tr>\n",
       "    <tr>\n",
       "      <th>1</th>\n",
       "      <td>0</td>\n",
       "      <td>59</td>\n",
       "      <td>2552</td>\n",
       "      <td>0.0</td>\n",
       "      <td>0.0</td>\n",
       "    </tr>\n",
       "    <tr>\n",
       "      <th>2</th>\n",
       "      <td>0</td>\n",
       "      <td>59</td>\n",
       "      <td>2554</td>\n",
       "      <td>0.0</td>\n",
       "      <td>0.0</td>\n",
       "    </tr>\n",
       "    <tr>\n",
       "      <th>3</th>\n",
       "      <td>0</td>\n",
       "      <td>59</td>\n",
       "      <td>2555</td>\n",
       "      <td>0.0</td>\n",
       "      <td>0.0</td>\n",
       "    </tr>\n",
       "    <tr>\n",
       "      <th>4</th>\n",
       "      <td>0</td>\n",
       "      <td>59</td>\n",
       "      <td>2564</td>\n",
       "      <td>0.0</td>\n",
       "      <td>0.0</td>\n",
       "    </tr>\n",
       "  </tbody>\n",
       "</table>\n",
       "</div>"
      ],
      "text/plain": [
       "   date_block_num  shop_id  item_id  item_cnt_month  item_price_mean\n",
       "0               0       59    22154             1.0            999.0\n",
       "1               0       59     2552             0.0              0.0\n",
       "2               0       59     2554             0.0              0.0\n",
       "3               0       59     2555             0.0              0.0\n",
       "4               0       59     2564             0.0              0.0"
      ]
     },
     "execution_count": 181,
     "metadata": {},
     "output_type": "execute_result"
    }
   ],
   "source": [
    "test['date_block_num'] = 34\n",
    "\n",
    "# Concatenate train and test\n",
    "all_data = pd.concat([train, test.drop('ID', axis=1)],\n",
    "                     ignore_index=True,\n",
    "                     keys=idx_features)\n",
    "# Replace NaN with 0\n",
    "all_data = all_data.fillna(0)\n",
    "\n",
    "all_data.head() "
   ]
  },
  {
   "cell_type": "code",
   "execution_count": 182,
   "id": "4eebff63",
   "metadata": {},
   "outputs": [],
   "source": [
    "all_data = all_data.merge(shops, on='shop_id', how='left')\n",
    "all_data = all_data.merge(items, on='item_id', how='left')\n",
    "all_data = all_data.merge(item_categories, on='item_category_id', how='left') "
   ]
  },
  {
   "cell_type": "code",
   "execution_count": 183,
   "id": "e512456c",
   "metadata": {},
   "outputs": [
    {
     "ename": "NameError",
     "evalue": "name 'downcast' is not defined",
     "output_type": "error",
     "traceback": [
      "\u001b[1;31m---------------------------------------------------------------------------\u001b[0m",
      "\u001b[1;31mNameError\u001b[0m                                 Traceback (most recent call last)",
      "Input \u001b[1;32mIn [183]\u001b[0m, in \u001b[0;36m<cell line: 1>\u001b[1;34m()\u001b[0m\n\u001b[1;32m----> 1\u001b[0m all_data \u001b[38;5;241m=\u001b[39m \u001b[43mdowncast\u001b[49m(all_data)\n",
      "\u001b[1;31mNameError\u001b[0m: name 'downcast' is not defined"
     ]
    }
   ],
   "source": [
    "all_data = downcast(all_data) "
   ]
  },
  {
   "cell_type": "code",
   "execution_count": 184,
   "id": "63988cb9",
   "metadata": {},
   "outputs": [],
   "source": [
    "del shops, items, item_categories\n",
    "gc.collect(); "
   ]
  },
  {
   "cell_type": "code",
   "execution_count": 185,
   "id": "6ca989d8",
   "metadata": {
    "scrolled": false
   },
   "outputs": [
    {
     "name": "stdout",
     "output_type": "stream",
     "text": [
      "Data Shape: (8861271, 10)\n"
     ]
    },
    {
     "data": {
      "text/html": [
       "<div>\n",
       "<style scoped>\n",
       "    .dataframe tbody tr th:only-of-type {\n",
       "        vertical-align: middle;\n",
       "    }\n",
       "\n",
       "    .dataframe tbody tr th {\n",
       "        vertical-align: top;\n",
       "    }\n",
       "\n",
       "    .dataframe thead th {\n",
       "        text-align: right;\n",
       "    }\n",
       "</style>\n",
       "<table border=\"1\" class=\"dataframe\">\n",
       "  <thead>\n",
       "    <tr style=\"text-align: right;\">\n",
       "      <th></th>\n",
       "      <th>Dtypes</th>\n",
       "      <th>Null</th>\n",
       "      <th>Uniques</th>\n",
       "      <th>First_values</th>\n",
       "      <th>Second_values</th>\n",
       "      <th>Third_values</th>\n",
       "    </tr>\n",
       "  </thead>\n",
       "  <tbody>\n",
       "    <tr>\n",
       "      <th>date_block_num</th>\n",
       "      <td>int64</td>\n",
       "      <td>0</td>\n",
       "      <td>35</td>\n",
       "      <td>0.0</td>\n",
       "      <td>0.0</td>\n",
       "      <td>0.0</td>\n",
       "    </tr>\n",
       "    <tr>\n",
       "      <th>shop_id</th>\n",
       "      <td>int64</td>\n",
       "      <td>0</td>\n",
       "      <td>42</td>\n",
       "      <td>59.0</td>\n",
       "      <td>59.0</td>\n",
       "      <td>59.0</td>\n",
       "    </tr>\n",
       "    <tr>\n",
       "      <th>item_id</th>\n",
       "      <td>int64</td>\n",
       "      <td>0</td>\n",
       "      <td>21469</td>\n",
       "      <td>22154.0</td>\n",
       "      <td>2552.0</td>\n",
       "      <td>2554.0</td>\n",
       "    </tr>\n",
       "    <tr>\n",
       "      <th>item_cnt_month</th>\n",
       "      <td>float64</td>\n",
       "      <td>0</td>\n",
       "      <td>407</td>\n",
       "      <td>1.0</td>\n",
       "      <td>0.0</td>\n",
       "      <td>0.0</td>\n",
       "    </tr>\n",
       "    <tr>\n",
       "      <th>item_price_mean</th>\n",
       "      <td>float64</td>\n",
       "      <td>0</td>\n",
       "      <td>35027</td>\n",
       "      <td>999.0</td>\n",
       "      <td>0.0</td>\n",
       "      <td>0.0</td>\n",
       "    </tr>\n",
       "    <tr>\n",
       "      <th>city</th>\n",
       "      <td>int32</td>\n",
       "      <td>0</td>\n",
       "      <td>28</td>\n",
       "      <td>30.0</td>\n",
       "      <td>30.0</td>\n",
       "      <td>30.0</td>\n",
       "    </tr>\n",
       "    <tr>\n",
       "      <th>shop_category</th>\n",
       "      <td>int32</td>\n",
       "      <td>0</td>\n",
       "      <td>11</td>\n",
       "      <td>8.0</td>\n",
       "      <td>8.0</td>\n",
       "      <td>8.0</td>\n",
       "    </tr>\n",
       "    <tr>\n",
       "      <th>item_category_id</th>\n",
       "      <td>int64</td>\n",
       "      <td>0</td>\n",
       "      <td>84</td>\n",
       "      <td>37.0</td>\n",
       "      <td>58.0</td>\n",
       "      <td>58.0</td>\n",
       "    </tr>\n",
       "    <tr>\n",
       "      <th>first_sale_date</th>\n",
       "      <td>float64</td>\n",
       "      <td>0</td>\n",
       "      <td>35</td>\n",
       "      <td>0.0</td>\n",
       "      <td>0.0</td>\n",
       "      <td>0.0</td>\n",
       "    </tr>\n",
       "    <tr>\n",
       "      <th>category</th>\n",
       "      <td>int64</td>\n",
       "      <td>0</td>\n",
       "      <td>10</td>\n",
       "      <td>5.0</td>\n",
       "      <td>7.0</td>\n",
       "      <td>7.0</td>\n",
       "    </tr>\n",
       "  </tbody>\n",
       "</table>\n",
       "</div>"
      ],
      "text/plain": [
       "                   Dtypes  Null  Uniques  First_values  Second_values  \\\n",
       "date_block_num      int64     0       35           0.0            0.0   \n",
       "shop_id             int64     0       42          59.0           59.0   \n",
       "item_id             int64     0    21469       22154.0         2552.0   \n",
       "item_cnt_month    float64     0      407           1.0            0.0   \n",
       "item_price_mean   float64     0    35027         999.0            0.0   \n",
       "city                int32     0       28          30.0           30.0   \n",
       "shop_category       int32     0       11           8.0            8.0   \n",
       "item_category_id    int64     0       84          37.0           58.0   \n",
       "first_sale_date   float64     0       35           0.0            0.0   \n",
       "category            int64     0       10           5.0            7.0   \n",
       "\n",
       "                  Third_values  \n",
       "date_block_num             0.0  \n",
       "shop_id                   59.0  \n",
       "item_id                 2554.0  \n",
       "item_cnt_month             0.0  \n",
       "item_price_mean            0.0  \n",
       "city                      30.0  \n",
       "shop_category              8.0  \n",
       "item_category_id          58.0  \n",
       "first_sale_date            0.0  \n",
       "category                   7.0  "
      ]
     },
     "execution_count": 185,
     "metadata": {},
     "output_type": "execute_result"
    }
   ],
   "source": [
    "def resumetable(df):\n",
    "    print(f'Data Shape: {df.shape}')\n",
    "    summary = pd.DataFrame(df.dtypes, columns=['Dtypes'])\n",
    "    summary['Null'] = df.isnull().sum().values\n",
    "    summary['Uniques'] = df.nunique().values\n",
    "    summary['First_values'] = df.loc[0].values\n",
    "    summary['Second_values'] = df.loc[1].values\n",
    "    summary['Third_values'] = df.loc[2].values\n",
    "    \n",
    "    return summary\n",
    "resumetable(all_data)"
   ]
  },
  {
   "cell_type": "code",
   "execution_count": 78,
   "id": "c0e89faf",
   "metadata": {},
   "outputs": [
    {
     "data": {
      "text/html": [
       "<div>\n",
       "<style scoped>\n",
       "    .dataframe tbody tr th:only-of-type {\n",
       "        vertical-align: middle;\n",
       "    }\n",
       "\n",
       "    .dataframe tbody tr th {\n",
       "        vertical-align: top;\n",
       "    }\n",
       "\n",
       "    .dataframe thead th {\n",
       "        text-align: right;\n",
       "    }\n",
       "</style>\n",
       "<table border=\"1\" class=\"dataframe\">\n",
       "  <thead>\n",
       "    <tr style=\"text-align: right;\">\n",
       "      <th></th>\n",
       "      <th>category</th>\n",
       "      <th>item_cnt_month</th>\n",
       "    </tr>\n",
       "  </thead>\n",
       "  <tbody>\n",
       "    <tr>\n",
       "      <th>category</th>\n",
       "      <td>1.000000</td>\n",
       "      <td>-0.041902</td>\n",
       "    </tr>\n",
       "    <tr>\n",
       "      <th>item_cnt_month</th>\n",
       "      <td>-0.041902</td>\n",
       "      <td>1.000000</td>\n",
       "    </tr>\n",
       "  </tbody>\n",
       "</table>\n",
       "</div>"
      ],
      "text/plain": [
       "                category  item_cnt_month\n",
       "category        1.000000       -0.041902\n",
       "item_cnt_month -0.041902        1.000000"
      ]
     },
     "execution_count": 78,
     "metadata": {},
     "output_type": "execute_result"
    }
   ],
   "source": [
    "all_data[[\"date_block_num\", \"item_cnt_month\"]].corr()"
   ]
  },
  {
   "cell_type": "code",
   "execution_count": 79,
   "id": "8433c335",
   "metadata": {
    "scrolled": true
   },
   "outputs": [
    {
     "data": {
      "text/html": [
       "<div>\n",
       "<style scoped>\n",
       "    .dataframe tbody tr th:only-of-type {\n",
       "        vertical-align: middle;\n",
       "    }\n",
       "\n",
       "    .dataframe tbody tr th {\n",
       "        vertical-align: top;\n",
       "    }\n",
       "\n",
       "    .dataframe thead th {\n",
       "        text-align: right;\n",
       "    }\n",
       "</style>\n",
       "<table border=\"1\" class=\"dataframe\">\n",
       "  <thead>\n",
       "    <tr style=\"text-align: right;\">\n",
       "      <th></th>\n",
       "      <th>shop_id</th>\n",
       "      <th>item_cnt_month</th>\n",
       "    </tr>\n",
       "  </thead>\n",
       "  <tbody>\n",
       "    <tr>\n",
       "      <th>shop_id</th>\n",
       "      <td>1.000000</td>\n",
       "      <td>0.007206</td>\n",
       "    </tr>\n",
       "    <tr>\n",
       "      <th>item_cnt_month</th>\n",
       "      <td>0.007206</td>\n",
       "      <td>1.000000</td>\n",
       "    </tr>\n",
       "  </tbody>\n",
       "</table>\n",
       "</div>"
      ],
      "text/plain": [
       "                 shop_id  item_cnt_month\n",
       "shop_id         1.000000        0.007206\n",
       "item_cnt_month  0.007206        1.000000"
      ]
     },
     "execution_count": 79,
     "metadata": {},
     "output_type": "execute_result"
    }
   ],
   "source": [
    "all_data[[\"shop_id\", \"item_cnt_month\"]].corr()"
   ]
  },
  {
   "cell_type": "code",
   "execution_count": 80,
   "id": "e8cb57de",
   "metadata": {
    "scrolled": false
   },
   "outputs": [
    {
     "data": {
      "text/html": [
       "<div>\n",
       "<style scoped>\n",
       "    .dataframe tbody tr th:only-of-type {\n",
       "        vertical-align: middle;\n",
       "    }\n",
       "\n",
       "    .dataframe tbody tr th {\n",
       "        vertical-align: top;\n",
       "    }\n",
       "\n",
       "    .dataframe thead th {\n",
       "        text-align: right;\n",
       "    }\n",
       "</style>\n",
       "<table border=\"1\" class=\"dataframe\">\n",
       "  <thead>\n",
       "    <tr style=\"text-align: right;\">\n",
       "      <th></th>\n",
       "      <th>item_price_mean</th>\n",
       "      <th>item_cnt_month</th>\n",
       "    </tr>\n",
       "  </thead>\n",
       "  <tbody>\n",
       "    <tr>\n",
       "      <th>item_price_mean</th>\n",
       "      <td>1.000000</td>\n",
       "      <td>0.123836</td>\n",
       "    </tr>\n",
       "    <tr>\n",
       "      <th>item_cnt_month</th>\n",
       "      <td>0.123836</td>\n",
       "      <td>1.000000</td>\n",
       "    </tr>\n",
       "  </tbody>\n",
       "</table>\n",
       "</div>"
      ],
      "text/plain": [
       "                 item_price_mean  item_cnt_month\n",
       "item_price_mean         1.000000        0.123836\n",
       "item_cnt_month          0.123836        1.000000"
      ]
     },
     "execution_count": 80,
     "metadata": {},
     "output_type": "execute_result"
    }
   ],
   "source": [
    "all_data[[\"item_price_mean\", \"item_cnt_month\"]].corr() "
   ]
  },
  {
   "cell_type": "code",
   "execution_count": 82,
   "id": "c14debca",
   "metadata": {
    "scrolled": true
   },
   "outputs": [
    {
     "data": {
      "text/html": [
       "<div>\n",
       "<style scoped>\n",
       "    .dataframe tbody tr th:only-of-type {\n",
       "        vertical-align: middle;\n",
       "    }\n",
       "\n",
       "    .dataframe tbody tr th {\n",
       "        vertical-align: top;\n",
       "    }\n",
       "\n",
       "    .dataframe thead th {\n",
       "        text-align: right;\n",
       "    }\n",
       "</style>\n",
       "<table border=\"1\" class=\"dataframe\">\n",
       "  <thead>\n",
       "    <tr style=\"text-align: right;\">\n",
       "      <th></th>\n",
       "      <th>city</th>\n",
       "      <th>item_cnt_month</th>\n",
       "    </tr>\n",
       "  </thead>\n",
       "  <tbody>\n",
       "    <tr>\n",
       "      <th>city</th>\n",
       "      <td>1.000000</td>\n",
       "      <td>0.006432</td>\n",
       "    </tr>\n",
       "    <tr>\n",
       "      <th>item_cnt_month</th>\n",
       "      <td>0.006432</td>\n",
       "      <td>1.000000</td>\n",
       "    </tr>\n",
       "  </tbody>\n",
       "</table>\n",
       "</div>"
      ],
      "text/plain": [
       "                    city  item_cnt_month\n",
       "city            1.000000        0.006432\n",
       "item_cnt_month  0.006432        1.000000"
      ]
     },
     "execution_count": 82,
     "metadata": {},
     "output_type": "execute_result"
    }
   ],
   "source": [
    "all_data[[\"city\", \"item_cnt_month\"]].corr()"
   ]
  },
  {
   "cell_type": "code",
   "execution_count": 83,
   "id": "3bb60ea6",
   "metadata": {
    "scrolled": true
   },
   "outputs": [
    {
     "data": {
      "text/html": [
       "<div>\n",
       "<style scoped>\n",
       "    .dataframe tbody tr th:only-of-type {\n",
       "        vertical-align: middle;\n",
       "    }\n",
       "\n",
       "    .dataframe tbody tr th {\n",
       "        vertical-align: top;\n",
       "    }\n",
       "\n",
       "    .dataframe thead th {\n",
       "        text-align: right;\n",
       "    }\n",
       "</style>\n",
       "<table border=\"1\" class=\"dataframe\">\n",
       "  <thead>\n",
       "    <tr style=\"text-align: right;\">\n",
       "      <th></th>\n",
       "      <th>shop_category</th>\n",
       "      <th>item_cnt_month</th>\n",
       "    </tr>\n",
       "  </thead>\n",
       "  <tbody>\n",
       "    <tr>\n",
       "      <th>shop_category</th>\n",
       "      <td>1.000000</td>\n",
       "      <td>-0.011082</td>\n",
       "    </tr>\n",
       "    <tr>\n",
       "      <th>item_cnt_month</th>\n",
       "      <td>-0.011082</td>\n",
       "      <td>1.000000</td>\n",
       "    </tr>\n",
       "  </tbody>\n",
       "</table>\n",
       "</div>"
      ],
      "text/plain": [
       "                shop_category  item_cnt_month\n",
       "shop_category        1.000000       -0.011082\n",
       "item_cnt_month      -0.011082        1.000000"
      ]
     },
     "execution_count": 83,
     "metadata": {},
     "output_type": "execute_result"
    }
   ],
   "source": [
    "all_data[[\"shop_category\", \"item_cnt_month\"]].corr()"
   ]
  },
  {
   "cell_type": "code",
   "execution_count": 84,
   "id": "d9a649d2",
   "metadata": {
    "scrolled": true
   },
   "outputs": [
    {
     "data": {
      "text/html": [
       "<div>\n",
       "<style scoped>\n",
       "    .dataframe tbody tr th:only-of-type {\n",
       "        vertical-align: middle;\n",
       "    }\n",
       "\n",
       "    .dataframe tbody tr th {\n",
       "        vertical-align: top;\n",
       "    }\n",
       "\n",
       "    .dataframe thead th {\n",
       "        text-align: right;\n",
       "    }\n",
       "</style>\n",
       "<table border=\"1\" class=\"dataframe\">\n",
       "  <thead>\n",
       "    <tr style=\"text-align: right;\">\n",
       "      <th></th>\n",
       "      <th>item_category_id</th>\n",
       "      <th>item_cnt_month</th>\n",
       "    </tr>\n",
       "  </thead>\n",
       "  <tbody>\n",
       "    <tr>\n",
       "      <th>item_category_id</th>\n",
       "      <td>1.000000</td>\n",
       "      <td>-0.029946</td>\n",
       "    </tr>\n",
       "    <tr>\n",
       "      <th>item_cnt_month</th>\n",
       "      <td>-0.029946</td>\n",
       "      <td>1.000000</td>\n",
       "    </tr>\n",
       "  </tbody>\n",
       "</table>\n",
       "</div>"
      ],
      "text/plain": [
       "                  item_category_id  item_cnt_month\n",
       "item_category_id          1.000000       -0.029946\n",
       "item_cnt_month           -0.029946        1.000000"
      ]
     },
     "execution_count": 84,
     "metadata": {},
     "output_type": "execute_result"
    }
   ],
   "source": [
    "all_data[[\"item_category_id\", \"item_cnt_month\"]].corr()"
   ]
  },
  {
   "cell_type": "code",
   "execution_count": 85,
   "id": "cfa58c44",
   "metadata": {
    "scrolled": true
   },
   "outputs": [
    {
     "data": {
      "text/html": [
       "<div>\n",
       "<style scoped>\n",
       "    .dataframe tbody tr th:only-of-type {\n",
       "        vertical-align: middle;\n",
       "    }\n",
       "\n",
       "    .dataframe tbody tr th {\n",
       "        vertical-align: top;\n",
       "    }\n",
       "\n",
       "    .dataframe thead th {\n",
       "        text-align: right;\n",
       "    }\n",
       "</style>\n",
       "<table border=\"1\" class=\"dataframe\">\n",
       "  <thead>\n",
       "    <tr style=\"text-align: right;\">\n",
       "      <th></th>\n",
       "      <th>first_sale_date</th>\n",
       "      <th>item_cnt_month</th>\n",
       "    </tr>\n",
       "  </thead>\n",
       "  <tbody>\n",
       "    <tr>\n",
       "      <th>first_sale_date</th>\n",
       "      <td>1.00000</td>\n",
       "      <td>0.01963</td>\n",
       "    </tr>\n",
       "    <tr>\n",
       "      <th>item_cnt_month</th>\n",
       "      <td>0.01963</td>\n",
       "      <td>1.00000</td>\n",
       "    </tr>\n",
       "  </tbody>\n",
       "</table>\n",
       "</div>"
      ],
      "text/plain": [
       "                 first_sale_date  item_cnt_month\n",
       "first_sale_date          1.00000         0.01963\n",
       "item_cnt_month           0.01963         1.00000"
      ]
     },
     "execution_count": 85,
     "metadata": {},
     "output_type": "execute_result"
    }
   ],
   "source": [
    "all_data[[\"first_sale_date\", \"item_cnt_month\"]].corr()"
   ]
  },
  {
   "cell_type": "code",
   "execution_count": 86,
   "id": "cad3fd2e",
   "metadata": {
    "scrolled": true
   },
   "outputs": [
    {
     "data": {
      "text/html": [
       "<div>\n",
       "<style scoped>\n",
       "    .dataframe tbody tr th:only-of-type {\n",
       "        vertical-align: middle;\n",
       "    }\n",
       "\n",
       "    .dataframe tbody tr th {\n",
       "        vertical-align: top;\n",
       "    }\n",
       "\n",
       "    .dataframe thead th {\n",
       "        text-align: right;\n",
       "    }\n",
       "</style>\n",
       "<table border=\"1\" class=\"dataframe\">\n",
       "  <thead>\n",
       "    <tr style=\"text-align: right;\">\n",
       "      <th></th>\n",
       "      <th>category</th>\n",
       "      <th>item_cnt_month</th>\n",
       "    </tr>\n",
       "  </thead>\n",
       "  <tbody>\n",
       "    <tr>\n",
       "      <th>category</th>\n",
       "      <td>1.000000</td>\n",
       "      <td>-0.041902</td>\n",
       "    </tr>\n",
       "    <tr>\n",
       "      <th>item_cnt_month</th>\n",
       "      <td>-0.041902</td>\n",
       "      <td>1.000000</td>\n",
       "    </tr>\n",
       "  </tbody>\n",
       "</table>\n",
       "</div>"
      ],
      "text/plain": [
       "                category  item_cnt_month\n",
       "category        1.000000       -0.041902\n",
       "item_cnt_month -0.041902        1.000000"
      ]
     },
     "execution_count": 86,
     "metadata": {},
     "output_type": "execute_result"
    }
   ],
   "source": [
    "all_data[[\"category\", \"item_cnt_month\"]].corr()"
   ]
  },
  {
   "cell_type": "markdown",
   "id": "21710a2c",
   "metadata": {},
   "source": [
    "### Modelisation"
   ]
  },
  {
   "cell_type": "markdown",
   "id": "178676f5",
   "metadata": {},
   "source": [
    "#### Split"
   ]
  },
  {
   "cell_type": "code",
   "execution_count": 186,
   "id": "ce5e2ae7",
   "metadata": {},
   "outputs": [],
   "source": [
    "final_train_df = all_data[all_data.date_block_num<=27]\n",
    "final_test_df = all_data[all_data.date_block_num>27]\n",
    "\n",
    "y_train = final_train_df[[\"item_cnt_month\"]]\n",
    "x_train = final_train_df.drop(\"item_cnt_month\", axis = 1)\n",
    " \n",
    "y_test = final_test_df[[\"item_cnt_month\"]] \n",
    "x_test = final_test_df.drop(\"item_cnt_month\", axis = 1) \n"
   ]
  },
  {
   "cell_type": "markdown",
   "id": "5fd204de",
   "metadata": {},
   "source": [
    "#### Regression lineaire"
   ]
  },
  {
   "cell_type": "code",
   "execution_count": 187,
   "id": "3149c2be",
   "metadata": {},
   "outputs": [
    {
     "data": {
      "text/plain": [
       "(0.020259993346635863, 0.006378882793819374)"
      ]
     },
     "execution_count": 187,
     "metadata": {},
     "output_type": "execute_result"
    }
   ],
   "source": [
    "from sklearn.linear_model import LinearRegression\n",
    "\n",
    "Modele = LinearRegression(fit_intercept = True)\n",
    "Modele.fit(x_train, y_train)\n",
    "train_score = Modele.score(x_train, y_train)\n",
    "test_score = Modele.score(x_test, y_test)\n",
    "\n",
    "train_score, test_score"
   ]
  },
  {
   "cell_type": "code",
   "execution_count": 188,
   "id": "218dd427",
   "metadata": {},
   "outputs": [
    {
     "name": "stdout",
     "output_type": "stream",
     "text": [
      "[[-8.68252718e-03  9.94693316e-03 -2.25040178e-06  6.60616840e-04\n",
      "  -1.82025430e-02 -1.91200193e-02  2.78619046e-02  1.39976349e-02\n",
      "  -2.73734277e-01]]\n"
     ]
    }
   ],
   "source": [
    "coefs_Modele = Modele.coef_\n",
    "print(coefs_Modele)"
   ]
  },
  {
   "cell_type": "code",
   "execution_count": 189,
   "id": "758fa91d",
   "metadata": {},
   "outputs": [
    {
     "data": {
      "text/plain": [
       "(3.3473785351834744, 3.496260219711276)"
      ]
     },
     "execution_count": 189,
     "metadata": {},
     "output_type": "execute_result"
    }
   ],
   "source": [
    "#### Erreur quadratique moyenne\n",
    "from sklearn.metrics import mean_squared_error \n",
    "\n",
    "y_train_predict = Modele.predict(x_train)\n",
    "y_test_predict = Modele.predict(x_test)\n",
    "erreur_train = mean_squared_error(y_train, y_train_predict, squared = False) \n",
    "erreur_test = mean_squared_error(y_test, y_test_predict, squared = False)\n",
    "\n",
    "erreur_train, erreur_test"
   ]
  },
  {
   "cell_type": "markdown",
   "id": "a38d2ab2",
   "metadata": {},
   "source": [
    "#### LASSO"
   ]
  },
  {
   "cell_type": "code",
   "execution_count": 190,
   "id": "da9bc92e",
   "metadata": {},
   "outputs": [
    {
     "data": {
      "text/plain": [
       "(0.01728362552826035, 0.005496993693419494)"
      ]
     },
     "execution_count": 190,
     "metadata": {},
     "output_type": "execute_result"
    }
   ],
   "source": [
    "from sklearn.linear_model import Lasso\n",
    "\n",
    "Modele_lasso = Lasso(fit_intercept = True, alpha = 5)\n",
    "Modele_lasso.fit(x_train, y_train)\n",
    "train_score = Modele_lasso.score(x_train, y_train)\n",
    "test_score = Modele_lasso.score(x_test, y_test)\n",
    "\n",
    "train_score, test_score"
   ]
  },
  {
   "cell_type": "code",
   "execution_count": 191,
   "id": "c96b1749",
   "metadata": {},
   "outputs": [
    {
     "name": "stdout",
     "output_type": "stream",
     "text": [
      "[-0.00000000e+00  0.00000000e+00 -4.62067053e-06  6.69190537e-04\n",
      "  0.00000000e+00 -0.00000000e+00 -0.00000000e+00  0.00000000e+00\n",
      " -0.00000000e+00]\n"
     ]
    }
   ],
   "source": [
    "coefs = Modele_lasso.coef_\n",
    "print(coefs)"
   ]
  },
  {
   "cell_type": "code",
   "execution_count": null,
   "id": "5be280ca",
   "metadata": {},
   "outputs": [],
   "source": []
  },
  {
   "cell_type": "markdown",
   "id": "cf7d22bb",
   "metadata": {},
   "source": [
    "####  SGD"
   ]
  },
  {
   "cell_type": "code",
   "execution_count": 192,
   "id": "9b25846f",
   "metadata": {
    "scrolled": true
   },
   "outputs": [
    {
     "name": "stderr",
     "output_type": "stream",
     "text": [
      "C:\\Users\\admin\\anaconda3\\lib\\site-packages\\sklearn\\ensemble\\_gb.py:494: DataConversionWarning: A column-vector y was passed when a 1d array was expected. Please change the shape of y to (n_samples, ), for example using ravel().\n",
      "  y = column_or_1d(y, warn=True)\n"
     ]
    },
    {
     "data": {
      "text/plain": [
       "(0.3697643303932385, 0.15861846731420037)"
      ]
     },
     "execution_count": 192,
     "metadata": {},
     "output_type": "execute_result"
    }
   ],
   "source": [
    "from sklearn.ensemble import GradientBoostingRegressor\n",
    "\n",
    "Modele_SGB = GradientBoostingRegressor()\n",
    "Modele_SGB.fit(x_train, y_train)\n",
    "train_score = Modele_SGB.score(x_train, y_train)\n",
    "test_score = Modele_SGB.score(x_test, y_test)\n",
    "\n",
    "train_score, test_score\n"
   ]
  },
  {
   "cell_type": "markdown",
   "id": "7ca98f6b",
   "metadata": {},
   "source": [
    "#### Random Forest"
   ]
  },
  {
   "cell_type": "code",
   "execution_count": 193,
   "id": "b5fbc4ac",
   "metadata": {},
   "outputs": [],
   "source": [
    "from sklearn.ensemble import RandomForestRegressor"
   ]
  },
  {
   "cell_type": "code",
   "execution_count": 194,
   "id": "0d684a8c",
   "metadata": {},
   "outputs": [
    {
     "name": "stdout",
     "output_type": "stream",
     "text": [
      "Requirement already satisfied: pip in c:\\users\\admin\\anaconda3\\lib\\site-packages (22.3.1)\n",
      "Requirement already satisfied: yellowbrick in c:\\users\\admin\\anaconda3\\lib\\site-packages (1.5)\n",
      "Requirement already satisfied: scikit-learn>=1.0.0 in c:\\users\\admin\\anaconda3\\lib\\site-packages (from yellowbrick) (1.0.2)\n",
      "Requirement already satisfied: matplotlib!=3.0.0,>=2.0.2 in c:\\users\\admin\\anaconda3\\lib\\site-packages (from yellowbrick) (3.5.1)\n",
      "Requirement already satisfied: cycler>=0.10.0 in c:\\users\\admin\\anaconda3\\lib\\site-packages (from yellowbrick) (0.11.0)\n",
      "Requirement already satisfied: scipy>=1.0.0 in c:\\users\\admin\\anaconda3\\lib\\site-packages (from yellowbrick) (1.7.3)\n",
      "Requirement already satisfied: numpy>=1.16.0 in c:\\users\\admin\\anaconda3\\lib\\site-packages (from yellowbrick) (1.21.5)\n",
      "Requirement already satisfied: pillow>=6.2.0 in c:\\users\\admin\\anaconda3\\lib\\site-packages (from matplotlib!=3.0.0,>=2.0.2->yellowbrick) (9.0.1)\n",
      "Requirement already satisfied: fonttools>=4.22.0 in c:\\users\\admin\\anaconda3\\lib\\site-packages (from matplotlib!=3.0.0,>=2.0.2->yellowbrick) (4.25.0)\n",
      "Requirement already satisfied: pyparsing>=2.2.1 in c:\\users\\admin\\anaconda3\\lib\\site-packages (from matplotlib!=3.0.0,>=2.0.2->yellowbrick) (3.0.4)\n",
      "Requirement already satisfied: packaging>=20.0 in c:\\users\\admin\\anaconda3\\lib\\site-packages (from matplotlib!=3.0.0,>=2.0.2->yellowbrick) (21.3)\n",
      "Requirement already satisfied: kiwisolver>=1.0.1 in c:\\users\\admin\\anaconda3\\lib\\site-packages (from matplotlib!=3.0.0,>=2.0.2->yellowbrick) (1.3.2)\n",
      "Requirement already satisfied: python-dateutil>=2.7 in c:\\users\\admin\\anaconda3\\lib\\site-packages (from matplotlib!=3.0.0,>=2.0.2->yellowbrick) (2.8.2)\n",
      "Requirement already satisfied: threadpoolctl>=2.0.0 in c:\\users\\admin\\anaconda3\\lib\\site-packages (from scikit-learn>=1.0.0->yellowbrick) (2.2.0)\n",
      "Requirement already satisfied: joblib>=0.11 in c:\\users\\admin\\anaconda3\\lib\\site-packages (from scikit-learn>=1.0.0->yellowbrick) (1.1.0)\n",
      "Requirement already satisfied: six>=1.5 in c:\\users\\admin\\anaconda3\\lib\\site-packages (from python-dateutil>=2.7->matplotlib!=3.0.0,>=2.0.2->yellowbrick) (1.16.0)\n",
      "Requirement already satisfied: xgboost in c:\\users\\admin\\anaconda3\\lib\\site-packages (1.7.2)\n",
      "Requirement already satisfied: numpy in c:\\users\\admin\\anaconda3\\lib\\site-packages (from xgboost) (1.21.5)\n",
      "Requirement already satisfied: scipy in c:\\users\\admin\\anaconda3\\lib\\site-packages (from xgboost) (1.7.3)\n"
     ]
    }
   ],
   "source": [
    "! pip install --upgrade pip\n",
    "! pip install yellowbrick\n",
    "! pip install xgboost"
   ]
  },
  {
   "cell_type": "code",
   "execution_count": 195,
   "id": "58d059fb",
   "metadata": {},
   "outputs": [],
   "source": [
    "import pandas as pd\n",
    "import numpy as np\n",
    "import matplotlib.pyplot as plt\n",
    "import seaborn as sns\n",
    "from sklearn.model_selection import cross_val_score\n",
    "from sklearn.model_selection import KFold\n",
    "from sklearn.model_selection import train_test_split, StratifiedShuffleSplit, GridSearchCV\n",
    "from sklearn.linear_model import LinearRegression, Lasso, Ridge, SGDRegressor, ElasticNet\n",
    "from sklearn.svm import SVR\n",
    "from sklearn.preprocessing import *\n",
    "from sklearn.pipeline import make_pipeline\n",
    "from sklearn.compose import make_column_transformer\n",
    "from sklearn.metrics import *\n",
    "from sklearn.ensemble import RandomForestRegressor\n",
    "from yellowbrick.model_selection import LearningCurve\n",
    "from yellowbrick.datasets import load_concrete\n",
    "from yellowbrick.regressor import ResidualsPlot\n",
    "from yellowbrick.regressor import PredictionError\n",
    "from yellowbrick.regressor import CooksDistance\n",
    "from yellowbrick.model_selection import ValidationCurve\n",
    "\n",
    "from xgboost import XGBRegressor\n",
    "from sklearn.pipeline import Pipeline\n",
    "from sklearn.preprocessing import StandardScaler\n",
    "from sklearn.preprocessing import MinMaxScaler\n",
    "from sklearn.compose import ColumnTransformer\n"
   ]
  },
  {
   "cell_type": "code",
   "execution_count": 196,
   "id": "8a135d29",
   "metadata": {},
   "outputs": [],
   "source": [
    "# Creating Numerical Transformer\n",
    "numerical_transformer = Pipeline(steps=[\n",
    "    ('scaler', MinMaxScaler())\n",
    "])"
   ]
  },
  {
   "cell_type": "code",
   "execution_count": 197,
   "id": "56c9c778",
   "metadata": {},
   "outputs": [],
   "source": [
    "X= train \n",
    "y = X.pop('item_cnt_month')"
   ]
  },
  {
   "cell_type": "code",
   "execution_count": 198,
   "id": "7eae3028",
   "metadata": {},
   "outputs": [],
   "source": [
    "# Bundling Preprocessors\n",
    "preprocessor = ColumnTransformer(\n",
    "    transformers=[('numerical', numerical_transformer, X.columns),])"
   ]
  },
  {
   "cell_type": "code",
   "execution_count": 65,
   "id": "a20478a9",
   "metadata": {},
   "outputs": [],
   "source": [
    "# Creating Model\n",
    "rfg_model = RandomForestRegressor(\n",
    "    n_estimators=250,\n",
    "    criterion='squared_error',\n",
    "    random_state=0,\n",
    ")\n",
    "\n",
    "rfg_pipeline = Pipeline(steps=[\n",
    "    ('preprocessor', preprocessor),\n",
    "    ('model', rfg_model),\n",
    "])"
   ]
  },
  {
   "cell_type": "code",
   "execution_count": 66,
   "id": "0457abb2",
   "metadata": {},
   "outputs": [
    {
     "name": "stderr",
     "output_type": "stream",
     "text": [
      "C:\\Users\\admin\\anaconda3\\lib\\site-packages\\sklearn\\pipeline.py:394: DataConversionWarning: A column-vector y was passed when a 1d array was expected. Please change the shape of y to (n_samples,), for example using ravel().\n",
      "  self._final_estimator.fit(Xt, y, **fit_params_last_step)\n"
     ]
    },
    {
     "name": "stdout",
     "output_type": "stream",
     "text": [
      "Training: Done!\n",
      "Predictions: Done!\n"
     ]
    }
   ],
   "source": [
    "# Training and Predicting\n",
    "rfg_pipeline.fit(x_train, y_train)\n",
    "print('Training: Done!')\n",
    "rfg_predictions = rfg_pipeline.predict(x_test)\n",
    "print('Predictions: Done!')\n"
   ]
  },
  {
   "cell_type": "code",
   "execution_count": null,
   "id": "623ebe14",
   "metadata": {},
   "outputs": [],
   "source": []
  },
  {
   "cell_type": "code",
   "execution_count": null,
   "id": "ba0a8908",
   "metadata": {},
   "outputs": [
    {
     "name": "stderr",
     "output_type": "stream",
     "text": [
      "C:\\Users\\admin\\anaconda3\\lib\\site-packages\\sklearn\\model_selection\\_validation.py:680: DataConversionWarning: A column-vector y was passed when a 1d array was expected. Please change the shape of y to (n_samples,), for example using ravel().\n",
      "  estimator.fit(X_train, y_train, **fit_params)\n",
      "C:\\Users\\admin\\anaconda3\\lib\\site-packages\\sklearn\\model_selection\\_validation.py:680: DataConversionWarning: A column-vector y was passed when a 1d array was expected. Please change the shape of y to (n_samples,), for example using ravel().\n",
      "  estimator.fit(X_train, y_train, **fit_params)\n",
      "C:\\Users\\admin\\anaconda3\\lib\\site-packages\\sklearn\\model_selection\\_validation.py:680: DataConversionWarning: A column-vector y was passed when a 1d array was expected. Please change the shape of y to (n_samples,), for example using ravel().\n",
      "  estimator.fit(X_train, y_train, **fit_params)\n",
      "C:\\Users\\admin\\anaconda3\\lib\\site-packages\\sklearn\\model_selection\\_validation.py:680: DataConversionWarning: A column-vector y was passed when a 1d array was expected. Please change the shape of y to (n_samples,), for example using ravel().\n",
      "  estimator.fit(X_train, y_train, **fit_params)\n",
      "C:\\Users\\admin\\anaconda3\\lib\\site-packages\\sklearn\\model_selection\\_validation.py:680: DataConversionWarning: A column-vector y was passed when a 1d array was expected. Please change the shape of y to (n_samples,), for example using ravel().\n",
      "  estimator.fit(X_train, y_train, **fit_params)\n",
      "C:\\Users\\admin\\anaconda3\\lib\\site-packages\\sklearn\\model_selection\\_validation.py:680: DataConversionWarning: A column-vector y was passed when a 1d array was expected. Please change the shape of y to (n_samples,), for example using ravel().\n",
      "  estimator.fit(X_train, y_train, **fit_params)\n",
      "C:\\Users\\admin\\anaconda3\\lib\\site-packages\\sklearn\\model_selection\\_validation.py:680: DataConversionWarning: A column-vector y was passed when a 1d array was expected. Please change the shape of y to (n_samples,), for example using ravel().\n",
      "  estimator.fit(X_train, y_train, **fit_params)\n",
      "C:\\Users\\admin\\anaconda3\\lib\\site-packages\\sklearn\\model_selection\\_validation.py:680: DataConversionWarning: A column-vector y was passed when a 1d array was expected. Please change the shape of y to (n_samples,), for example using ravel().\n",
      "  estimator.fit(X_train, y_train, **fit_params)\n",
      "C:\\Users\\admin\\anaconda3\\lib\\site-packages\\sklearn\\model_selection\\_validation.py:680: DataConversionWarning: A column-vector y was passed when a 1d array was expected. Please change the shape of y to (n_samples,), for example using ravel().\n",
      "  estimator.fit(X_train, y_train, **fit_params)\n",
      "C:\\Users\\admin\\anaconda3\\lib\\site-packages\\sklearn\\model_selection\\_validation.py:680: DataConversionWarning: A column-vector y was passed when a 1d array was expected. Please change the shape of y to (n_samples,), for example using ravel().\n",
      "  estimator.fit(X_train, y_train, **fit_params)\n",
      "C:\\Users\\admin\\anaconda3\\lib\\site-packages\\sklearn\\model_selection\\_validation.py:680: DataConversionWarning: A column-vector y was passed when a 1d array was expected. Please change the shape of y to (n_samples,), for example using ravel().\n",
      "  estimator.fit(X_train, y_train, **fit_params)\n",
      "C:\\Users\\admin\\anaconda3\\lib\\site-packages\\sklearn\\model_selection\\_validation.py:680: DataConversionWarning: A column-vector y was passed when a 1d array was expected. Please change the shape of y to (n_samples,), for example using ravel().\n",
      "  estimator.fit(X_train, y_train, **fit_params)\n",
      "C:\\Users\\admin\\anaconda3\\lib\\site-packages\\sklearn\\model_selection\\_validation.py:680: DataConversionWarning: A column-vector y was passed when a 1d array was expected. Please change the shape of y to (n_samples,), for example using ravel().\n",
      "  estimator.fit(X_train, y_train, **fit_params)\n",
      "C:\\Users\\admin\\anaconda3\\lib\\site-packages\\sklearn\\model_selection\\_validation.py:680: DataConversionWarning: A column-vector y was passed when a 1d array was expected. Please change the shape of y to (n_samples,), for example using ravel().\n",
      "  estimator.fit(X_train, y_train, **fit_params)\n",
      "C:\\Users\\admin\\anaconda3\\lib\\site-packages\\sklearn\\model_selection\\_validation.py:680: DataConversionWarning: A column-vector y was passed when a 1d array was expected. Please change the shape of y to (n_samples,), for example using ravel().\n",
      "  estimator.fit(X_train, y_train, **fit_params)\n",
      "C:\\Users\\admin\\anaconda3\\lib\\site-packages\\sklearn\\model_selection\\_validation.py:680: DataConversionWarning: A column-vector y was passed when a 1d array was expected. Please change the shape of y to (n_samples,), for example using ravel().\n",
      "  estimator.fit(X_train, y_train, **fit_params)\n",
      "C:\\Users\\admin\\anaconda3\\lib\\site-packages\\sklearn\\model_selection\\_validation.py:680: DataConversionWarning: A column-vector y was passed when a 1d array was expected. Please change the shape of y to (n_samples,), for example using ravel().\n",
      "  estimator.fit(X_train, y_train, **fit_params)\n",
      "C:\\Users\\admin\\anaconda3\\lib\\site-packages\\sklearn\\model_selection\\_validation.py:680: DataConversionWarning: A column-vector y was passed when a 1d array was expected. Please change the shape of y to (n_samples,), for example using ravel().\n",
      "  estimator.fit(X_train, y_train, **fit_params)\n",
      "C:\\Users\\admin\\anaconda3\\lib\\site-packages\\sklearn\\model_selection\\_validation.py:680: DataConversionWarning: A column-vector y was passed when a 1d array was expected. Please change the shape of y to (n_samples,), for example using ravel().\n",
      "  estimator.fit(X_train, y_train, **fit_params)\n",
      "C:\\Users\\admin\\anaconda3\\lib\\site-packages\\sklearn\\model_selection\\_validation.py:680: DataConversionWarning: A column-vector y was passed when a 1d array was expected. Please change the shape of y to (n_samples,), for example using ravel().\n",
      "  estimator.fit(X_train, y_train, **fit_params)\n",
      "C:\\Users\\admin\\anaconda3\\lib\\site-packages\\sklearn\\model_selection\\_validation.py:680: DataConversionWarning: A column-vector y was passed when a 1d array was expected. Please change the shape of y to (n_samples,), for example using ravel().\n",
      "  estimator.fit(X_train, y_train, **fit_params)\n"
     ]
    }
   ],
   "source": [
    "from sklearn.ensemble import RandomForestRegressor\n",
    "from sklearn.model_selection import GridSearchCV\n",
    "\n",
    "# Définition des valeurs à essayer pour chaque hyperparamètre\n",
    "param_grid = {\n",
    "    \"n_estimators\": [10, 50, 100, 200, 500],\n",
    "    \"max_depth\": [None, 5, 10, 20],\n",
    "    \"min_samples_split\": [2, 5, 10],\n",
    "    \"min_samples_leaf\": [1, 2, 4],\n",
    "    \"max_features\": [\"auto\", \"sqrt\", \"log2\"]\n",
    "}\n",
    "\n",
    "# Création de la grille de recherche\n",
    "grid_search = GridSearchCV(rfg_model, param_grid, cv=5, scoring=\"neg_mean_absolute_error\")\n",
    "\n",
    "# Entraînement du modèle avec la grille de recherche\n",
    "grid_search.fit(x_train, y_train)\n",
    "\n",
    "# Affiche le meilleur jeu d'hyperparamètres trouvé\n",
    "print(\"Meilleurs hyperparamètres:\", grid_search.best_params_)\n",
    "\n",
    "# Évaluation du modèle avec les meilleurs hyperparamètres sur les données de test\n",
    "score = grid_search.score(x_test, y_test)\n",
    "\n",
    "print(\"Score du modèle : {:.2f}\".format(score))"
   ]
  },
  {
   "cell_type": "code",
   "execution_count": 52,
   "id": "f4484dc0",
   "metadata": {},
   "outputs": [],
   "source": [
    "rfg_model = RandomForestRegressor(\n",
    "    criterion='squared_error',\n",
    "    random_state=0,\n",
    "    max_depth= None,\n",
    "    max_features= 4,\n",
    "    min_samples_leaf= 1,\n",
    "    min_samples_split= 10,\n",
    "    n_estimators=  200\n",
    "\n",
    ")\n"
   ]
  },
  {
   "cell_type": "code",
   "execution_count": 53,
   "id": "c62a2648",
   "metadata": {},
   "outputs": [
    {
     "name": "stderr",
     "output_type": "stream",
     "text": [
      "c:\\Users\\dell\\anaconda3\\lib\\site-packages\\sklearn\\pipeline.py:382: DataConversionWarning: A column-vector y was passed when a 1d array was expected. Please change the shape of y to (n_samples,), for example using ravel().\n",
      "  self._final_estimator.fit(Xt, y, **fit_params_last_step)\n"
     ]
    },
    {
     "name": "stdout",
     "output_type": "stream",
     "text": [
      "Training: Done!\n",
      "Predictions: Done!\n"
     ]
    }
   ],
   "source": [
    "rfg_pipeline.fit(x_train, y_train)\n",
    "print('Training: Done!')\n",
    "rfg_predictions = rfg_pipeline.predict(x_test)\n",
    "print('Predictions: Done!')"
   ]
  },
  {
   "cell_type": "code",
   "execution_count": 54,
   "id": "086b5ab1",
   "metadata": {},
   "outputs": [
    {
     "data": {
      "text/plain": [
       "(0.9831576523987972, 0.7927208321600562)"
      ]
     },
     "execution_count": 54,
     "metadata": {},
     "output_type": "execute_result"
    }
   ],
   "source": [
    "train_score = rfg_pipeline.score(x_train, y_train)\n",
    "test_score = rfg_pipeline.score(x_test, y_test)\n",
    "\n",
    "train_score, test_score"
   ]
  },
  {
   "cell_type": "markdown",
   "id": "55908c73",
   "metadata": {},
   "source": [
    "## XGBOOST REGRESSOR"
   ]
  },
  {
   "cell_type": "code",
   "execution_count": 199,
   "id": "6c04a7f5",
   "metadata": {},
   "outputs": [],
   "source": [
    "from xgboost import XGBRegressor"
   ]
  },
  {
   "cell_type": "code",
   "execution_count": 200,
   "id": "e9ab42ea",
   "metadata": {},
   "outputs": [],
   "source": [
    "# Creating the Model\n",
    "xgb_model = XGBRegressor(\n",
    "    n_estimators=500\n",
    "    , learning_rate=0.05\n",
    "    , n_jobs=4\n",
    ")"
   ]
  },
  {
   "cell_type": "code",
   "execution_count": 201,
   "id": "68a0df62",
   "metadata": {},
   "outputs": [
    {
     "name": "stderr",
     "output_type": "stream",
     "text": [
      "C:\\Users\\admin\\anaconda3\\lib\\site-packages\\xgboost\\sklearn.py:861: UserWarning: `early_stopping_rounds` in `fit` method is deprecated for better compatibility with scikit-learn, use `early_stopping_rounds` in constructor or`set_params` instead.\n",
      "  warnings.warn(\n"
     ]
    },
    {
     "name": "stdout",
     "output_type": "stream",
     "text": [
      "Training: Done!\n",
      "Predictions: Done!\n"
     ]
    }
   ],
   "source": [
    "xgb_model.fit(\n",
    "    x_train, y_train\n",
    "    , early_stopping_rounds=5\n",
    "    , eval_set=[(x_test, y_test)]\n",
    "    , verbose=False\n",
    ")\n",
    "print('Training: Done!')\n",
    "\n",
    "xgb_predictions = xgb_model.predict(x_test)\n",
    "print('Predictions: Done!')"
   ]
  },
  {
   "cell_type": "code",
   "execution_count": 202,
   "id": "cc1830b5",
   "metadata": {},
   "outputs": [
    {
     "data": {
      "text/plain": [
       "(0.22169011655431492, 0.10911292308726817)"
      ]
     },
     "execution_count": 202,
     "metadata": {},
     "output_type": "execute_result"
    }
   ],
   "source": [
    "train_score =xgb_model.score(x_train, y_train)\n",
    "test_score = xgb_model.score(x_test, y_test)\n",
    "\n",
    "train_score, test_score"
   ]
  },
  {
   "cell_type": "markdown",
   "id": "bd9e7488",
   "metadata": {},
   "source": [
    "### CHANGEMENT DE METHODE"
   ]
  },
  {
   "cell_type": "code",
   "execution_count": 1,
   "id": "59c800cb",
   "metadata": {},
   "outputs": [],
   "source": [
    "# Librairies\n",
    "import pandas as pd\n",
    "import numpy as np\n",
    "import matplotlib.pyplot as plt #faire des graphes \n",
    "import seaborn as sns # faire des graphiques plus jolis\n",
    "import sklearn as sk"
   ]
  },
  {
   "cell_type": "code",
   "execution_count": 2,
   "id": "e9313779",
   "metadata": {},
   "outputs": [],
   "source": [
    "import os\n",
    "#afficher le répertoire courant\n",
    "os.getcwd()\n",
    "os.chdir(r'C:\\Users\\admin\\Desktop\\ISE_22\\ML_Project')\n",
    "item_categories = pd.read_csv('item_categories.csv')\n",
    "\n",
    "items = pd.read_csv('items.csv')\n",
    "\n",
    "sales_train = pd.read_csv('sales_train.csv')\n",
    "\n",
    "sample_submission = sample_submission = pd.read_csv('sample_submission.csv')\n",
    "\n",
    "shops = pd.read_csv('shops.csv')\n",
    "\n",
    "test = pd.read_csv('test.csv')"
   ]
  },
  {
   "cell_type": "code",
   "execution_count": 3,
   "id": "6acc4cc7",
   "metadata": {},
   "outputs": [],
   "source": [
    "base1 = items.merge(item_categories, on = \"item_category_id\", how = \"left\")"
   ]
  },
  {
   "cell_type": "code",
   "execution_count": 4,
   "id": "ed62eefe",
   "metadata": {},
   "outputs": [],
   "source": [
    "base2 = sales_train.merge(shops, on = \"shop_id\", how = \"left\")"
   ]
  },
  {
   "cell_type": "code",
   "execution_count": 5,
   "id": "e61aa537",
   "metadata": {},
   "outputs": [],
   "source": [
    "base_globale = base2.merge(base1, on = \"item_id\", how = \"left\")"
   ]
  },
  {
   "cell_type": "code",
   "execution_count": 6,
   "id": "5964cd9b",
   "metadata": {},
   "outputs": [
    {
     "data": {
      "text/html": [
       "<div>\n",
       "<style scoped>\n",
       "    .dataframe tbody tr th:only-of-type {\n",
       "        vertical-align: middle;\n",
       "    }\n",
       "\n",
       "    .dataframe tbody tr th {\n",
       "        vertical-align: top;\n",
       "    }\n",
       "\n",
       "    .dataframe thead th {\n",
       "        text-align: right;\n",
       "    }\n",
       "</style>\n",
       "<table border=\"1\" class=\"dataframe\">\n",
       "  <thead>\n",
       "    <tr style=\"text-align: right;\">\n",
       "      <th></th>\n",
       "      <th>date_block_num</th>\n",
       "      <th>shop_id</th>\n",
       "      <th>item_id</th>\n",
       "      <th>item_cnt_day</th>\n",
       "      <th>item_category_id</th>\n",
       "    </tr>\n",
       "  </thead>\n",
       "  <tbody>\n",
       "    <tr>\n",
       "      <th>0</th>\n",
       "      <td>0</td>\n",
       "      <td>59</td>\n",
       "      <td>22154</td>\n",
       "      <td>1.0</td>\n",
       "      <td>37</td>\n",
       "    </tr>\n",
       "    <tr>\n",
       "      <th>1</th>\n",
       "      <td>0</td>\n",
       "      <td>25</td>\n",
       "      <td>2552</td>\n",
       "      <td>1.0</td>\n",
       "      <td>58</td>\n",
       "    </tr>\n",
       "    <tr>\n",
       "      <th>2</th>\n",
       "      <td>0</td>\n",
       "      <td>25</td>\n",
       "      <td>2552</td>\n",
       "      <td>-1.0</td>\n",
       "      <td>58</td>\n",
       "    </tr>\n",
       "    <tr>\n",
       "      <th>3</th>\n",
       "      <td>0</td>\n",
       "      <td>25</td>\n",
       "      <td>2554</td>\n",
       "      <td>1.0</td>\n",
       "      <td>58</td>\n",
       "    </tr>\n",
       "    <tr>\n",
       "      <th>4</th>\n",
       "      <td>0</td>\n",
       "      <td>25</td>\n",
       "      <td>2555</td>\n",
       "      <td>1.0</td>\n",
       "      <td>56</td>\n",
       "    </tr>\n",
       "  </tbody>\n",
       "</table>\n",
       "</div>"
      ],
      "text/plain": [
       "   date_block_num  shop_id  item_id  item_cnt_day  item_category_id\n",
       "0               0       59    22154           1.0                37\n",
       "1               0       25     2552           1.0                58\n",
       "2               0       25     2552          -1.0                58\n",
       "3               0       25     2554           1.0                58\n",
       "4               0       25     2555           1.0                56"
      ]
     },
     "execution_count": 6,
     "metadata": {},
     "output_type": "execute_result"
    }
   ],
   "source": [
    "# Gardons les variables importantes: shop_id, item_id, date_block_num et item_cnt_day\n",
    "\n",
    "base_globale = base_globale[[\"date_block_num\",\"shop_id\", \"item_id\",\"item_cnt_day\",\"item_category_id\"]]\n",
    "\n",
    "base_globale.head()"
   ]
  },
  {
   "cell_type": "code",
   "execution_count": 7,
   "id": "8781bc41",
   "metadata": {},
   "outputs": [
    {
     "data": {
      "text/html": [
       "<div>\n",
       "<style scoped>\n",
       "    .dataframe tbody tr th:only-of-type {\n",
       "        vertical-align: middle;\n",
       "    }\n",
       "\n",
       "    .dataframe tbody tr th {\n",
       "        vertical-align: top;\n",
       "    }\n",
       "\n",
       "    .dataframe thead th {\n",
       "        text-align: right;\n",
       "    }\n",
       "</style>\n",
       "<table border=\"1\" class=\"dataframe\">\n",
       "  <thead>\n",
       "    <tr style=\"text-align: right;\">\n",
       "      <th></th>\n",
       "      <th>date_block_num</th>\n",
       "      <th>shop_id</th>\n",
       "      <th>item_id</th>\n",
       "      <th>item_cnt_day</th>\n",
       "      <th>item_category_id</th>\n",
       "    </tr>\n",
       "  </thead>\n",
       "  <tbody>\n",
       "    <tr>\n",
       "      <th>count</th>\n",
       "      <td>2.935849e+06</td>\n",
       "      <td>2.935849e+06</td>\n",
       "      <td>2.935849e+06</td>\n",
       "      <td>2.935849e+06</td>\n",
       "      <td>2.935849e+06</td>\n",
       "    </tr>\n",
       "    <tr>\n",
       "      <th>mean</th>\n",
       "      <td>1.456991e+01</td>\n",
       "      <td>3.300173e+01</td>\n",
       "      <td>1.019723e+04</td>\n",
       "      <td>1.242641e+00</td>\n",
       "      <td>4.000138e+01</td>\n",
       "    </tr>\n",
       "    <tr>\n",
       "      <th>std</th>\n",
       "      <td>9.422988e+00</td>\n",
       "      <td>1.622697e+01</td>\n",
       "      <td>6.324297e+03</td>\n",
       "      <td>2.618834e+00</td>\n",
       "      <td>1.710076e+01</td>\n",
       "    </tr>\n",
       "    <tr>\n",
       "      <th>min</th>\n",
       "      <td>0.000000e+00</td>\n",
       "      <td>0.000000e+00</td>\n",
       "      <td>0.000000e+00</td>\n",
       "      <td>-2.200000e+01</td>\n",
       "      <td>0.000000e+00</td>\n",
       "    </tr>\n",
       "    <tr>\n",
       "      <th>25%</th>\n",
       "      <td>7.000000e+00</td>\n",
       "      <td>2.200000e+01</td>\n",
       "      <td>4.476000e+03</td>\n",
       "      <td>1.000000e+00</td>\n",
       "      <td>2.800000e+01</td>\n",
       "    </tr>\n",
       "    <tr>\n",
       "      <th>50%</th>\n",
       "      <td>1.400000e+01</td>\n",
       "      <td>3.100000e+01</td>\n",
       "      <td>9.343000e+03</td>\n",
       "      <td>1.000000e+00</td>\n",
       "      <td>4.000000e+01</td>\n",
       "    </tr>\n",
       "    <tr>\n",
       "      <th>75%</th>\n",
       "      <td>2.300000e+01</td>\n",
       "      <td>4.700000e+01</td>\n",
       "      <td>1.568400e+04</td>\n",
       "      <td>1.000000e+00</td>\n",
       "      <td>5.500000e+01</td>\n",
       "    </tr>\n",
       "    <tr>\n",
       "      <th>max</th>\n",
       "      <td>3.300000e+01</td>\n",
       "      <td>5.900000e+01</td>\n",
       "      <td>2.216900e+04</td>\n",
       "      <td>2.169000e+03</td>\n",
       "      <td>8.300000e+01</td>\n",
       "    </tr>\n",
       "  </tbody>\n",
       "</table>\n",
       "</div>"
      ],
      "text/plain": [
       "       date_block_num       shop_id       item_id  item_cnt_day  \\\n",
       "count    2.935849e+06  2.935849e+06  2.935849e+06  2.935849e+06   \n",
       "mean     1.456991e+01  3.300173e+01  1.019723e+04  1.242641e+00   \n",
       "std      9.422988e+00  1.622697e+01  6.324297e+03  2.618834e+00   \n",
       "min      0.000000e+00  0.000000e+00  0.000000e+00 -2.200000e+01   \n",
       "25%      7.000000e+00  2.200000e+01  4.476000e+03  1.000000e+00   \n",
       "50%      1.400000e+01  3.100000e+01  9.343000e+03  1.000000e+00   \n",
       "75%      2.300000e+01  4.700000e+01  1.568400e+04  1.000000e+00   \n",
       "max      3.300000e+01  5.900000e+01  2.216900e+04  2.169000e+03   \n",
       "\n",
       "       item_category_id  \n",
       "count      2.935849e+06  \n",
       "mean       4.000138e+01  \n",
       "std        1.710076e+01  \n",
       "min        0.000000e+00  \n",
       "25%        2.800000e+01  \n",
       "50%        4.000000e+01  \n",
       "75%        5.500000e+01  \n",
       "max        8.300000e+01  "
      ]
     },
     "execution_count": 7,
     "metadata": {},
     "output_type": "execute_result"
    }
   ],
   "source": [
    "base_globale.describe()"
   ]
  },
  {
   "cell_type": "code",
   "execution_count": 9,
   "id": "53fa05ac",
   "metadata": {},
   "outputs": [],
   "source": [
    "# On constate que la valeur minimale de item_cnt_day est -22, bizarre parceque c'est le nombre de produits vendus par jour,\n",
    "\n",
    "# Corrigéons cela en appliquant une valeur absolue à cette variable\n",
    "\n",
    "base_globale[\"item_cnt_day\"] = np.abs(base_globale[\"item_cnt_day\"])"
   ]
  },
  {
   "cell_type": "code",
   "execution_count": 10,
   "id": "d40aecb0",
   "metadata": {},
   "outputs": [
    {
     "data": {
      "text/plain": [
       "array([[<AxesSubplot:title={'center':'date_block_num'}>,\n",
       "        <AxesSubplot:title={'center':'shop_id'}>],\n",
       "       [<AxesSubplot:title={'center':'item_id'}>,\n",
       "        <AxesSubplot:title={'center':'item_cnt_day'}>],\n",
       "       [<AxesSubplot:title={'center':'item_category_id'}>,\n",
       "        <AxesSubplot:>]], dtype=object)"
      ]
     },
     "execution_count": 10,
     "metadata": {},
     "output_type": "execute_result"
    },
    {
     "data": {
      "image/png": "[encoded data removed]",
      "text/plain": [
       "<Figure size 1080x720 with 6 Axes>"
      ]
     },
     "metadata": {
      "needs_background": "light"
     },
     "output_type": "display_data"
    }
   ],
   "source": [
    "base_globale.hist(bins=15, figsize=(15, 10))"
   ]
  },
  {
   "cell_type": "code",
   "execution_count": 11,
   "id": "5011a1ed",
   "metadata": {
    "scrolled": true
   },
   "outputs": [
    {
     "data": {
      "text/html": [
       "<div>\n",
       "<style scoped>\n",
       "    .dataframe tbody tr th:only-of-type {\n",
       "        vertical-align: middle;\n",
       "    }\n",
       "\n",
       "    .dataframe tbody tr th {\n",
       "        vertical-align: top;\n",
       "    }\n",
       "\n",
       "    .dataframe thead th {\n",
       "        text-align: right;\n",
       "    }\n",
       "</style>\n",
       "<table border=\"1\" class=\"dataframe\">\n",
       "  <thead>\n",
       "    <tr style=\"text-align: right;\">\n",
       "      <th></th>\n",
       "      <th>date_block_num</th>\n",
       "      <th>shop_id</th>\n",
       "      <th>item_cnt_day</th>\n",
       "    </tr>\n",
       "  </thead>\n",
       "  <tbody>\n",
       "    <tr>\n",
       "      <th>0</th>\n",
       "      <td>0</td>\n",
       "      <td>0</td>\n",
       "      <td>5578.0</td>\n",
       "    </tr>\n",
       "    <tr>\n",
       "      <th>1</th>\n",
       "      <td>0</td>\n",
       "      <td>1</td>\n",
       "      <td>2947.0</td>\n",
       "    </tr>\n",
       "    <tr>\n",
       "      <th>2</th>\n",
       "      <td>0</td>\n",
       "      <td>2</td>\n",
       "      <td>1156.0</td>\n",
       "    </tr>\n",
       "    <tr>\n",
       "      <th>3</th>\n",
       "      <td>0</td>\n",
       "      <td>3</td>\n",
       "      <td>767.0</td>\n",
       "    </tr>\n",
       "    <tr>\n",
       "      <th>4</th>\n",
       "      <td>0</td>\n",
       "      <td>4</td>\n",
       "      <td>2120.0</td>\n",
       "    </tr>\n",
       "  </tbody>\n",
       "</table>\n",
       "</div>"
      ],
      "text/plain": [
       "   date_block_num  shop_id  item_cnt_day\n",
       "0               0        0        5578.0\n",
       "1               0        1        2947.0\n",
       "2               0        2        1156.0\n",
       "3               0        3         767.0\n",
       "4               0        4        2120.0"
      ]
     },
     "execution_count": 11,
     "metadata": {},
     "output_type": "execute_result"
    }
   ],
   "source": [
    "# Groupons les lignes qui ont les memes valeurs sauf pour item_cnt_day(dont les valeurs sont sommées)\n",
    "grouped_base_globale = base_globale.groupby(by = ['date_block_num', 'shop_id'], as_index=False).agg({\"item_cnt_day\":\"sum\"})\n",
    "\n",
    "grouped_base_globale.head()"
   ]
  },
  {
   "cell_type": "markdown",
   "id": "a0e8d662",
   "metadata": {},
   "source": [
    "#### Transformons la variable shop_id en une variable dummies"
   ]
  },
  {
   "cell_type": "code",
   "execution_count": null,
   "id": "051bbbf2",
   "metadata": {},
   "outputs": [],
   "source": [
    "### pour transformer shop_id en variable dummies\n",
    "#grouped_base_globale = pd.get_dummies(grouped_train_df)\n",
    "\n",
    "#grouped_base_globale.head()"
   ]
  },
  {
   "cell_type": "code",
   "execution_count": 12,
   "id": "fda8b5d0",
   "metadata": {},
   "outputs": [],
   "source": [
    "grouped_base_globale[\"shop_id\"] = grouped_base_globale[\"shop_id\"].astype(str)"
   ]
  },
  {
   "cell_type": "markdown",
   "id": "c69715a2",
   "metadata": {},
   "source": [
    "### Split"
   ]
  },
  {
   "cell_type": "code",
   "execution_count": null,
   "id": "690b54bb",
   "metadata": {},
   "outputs": [],
   "source": []
  },
  {
   "cell_type": "code",
   "execution_count": 18,
   "id": "35aba704",
   "metadata": {},
   "outputs": [],
   "source": [
    "final_train_df = grouped_base_globale[grouped_base_globale.date_block_num<=27]\n",
    "final_test_df = grouped_base_globale[grouped_base_globale.date_block_num>27]\n",
    "\n",
    "# Keep only shops that are in the test set\n",
    "\n",
    "final_test_df = final_test_df.loc[final_test_df.shop_id.isin(final_train_df[\"shop_id\"].unique()), :]\n",
    "\n",
    "y_train = final_train_df[[\"item_cnt_day\"]]\n",
    "x_train = final_train_df.drop(\"item_cnt_day\", axis = 1)\n",
    " \n",
    "y_test = final_test_df[[\"item_cnt_day\"]] \n",
    "x_test = final_test_df.drop(\"item_cnt_day\", axis = 1)\n"
   ]
  },
  {
   "cell_type": "code",
   "execution_count": null,
   "id": "d3c573c1",
   "metadata": {},
   "outputs": [],
   "source": []
  },
  {
   "cell_type": "code",
   "execution_count": 14,
   "id": "1fe079c5",
   "metadata": {},
   "outputs": [],
   "source": [
    "from sklearn.pipeline import Pipeline\n",
    "from sklearn.preprocessing import OneHotEncoder, StandardScaler\n",
    "from sklearn.compose import ColumnTransformer\n",
    "from sklearn.impute import SimpleImputer"
   ]
  },
  {
   "cell_type": "code",
   "execution_count": 15,
   "id": "d2e076e6",
   "metadata": {},
   "outputs": [],
   "source": [
    "numeric_features = x_train.select_dtypes(include=[\"int64\", 'float64']).columns\n",
    "categorical_features = x_train.select_dtypes(include=[\"object\"]).columns\n",
    "    \n",
    "numerical_transformer = Pipeline(steps=[(\"imputer\", SimpleImputer()), (\"scaler\", StandardScaler())])\n",
    "categorical_transformer = Pipeline(steps=[(\"imputer\", SimpleImputer()), (\"encoder\", OneHotEncoder())])\n",
    "preprocessor = ColumnTransformer(\n",
    "      transformers=[\n",
    "          (\"num\", numerical_transformer, numeric_features),\n",
    "          (\"cat\", categorical_transformer, categorical_features)\n",
    "      ]\n",
    "  )"
   ]
  },
  {
   "cell_type": "code",
   "execution_count": 20,
   "id": "25d8079a",
   "metadata": {},
   "outputs": [
    {
     "data": {
      "text/plain": [
       "(Index(['date_block_num'], dtype='object'), Index(['shop_id'], dtype='object'))"
      ]
     },
     "execution_count": 20,
     "metadata": {},
     "output_type": "execute_result"
    }
   ],
   "source": [
    "numeric_features, categorical_features"
   ]
  },
  {
   "cell_type": "markdown",
   "id": "84c55d22",
   "metadata": {},
   "source": [
    "### Modèle Linéaire"
   ]
  },
  {
   "cell_type": "code",
   "execution_count": 19,
   "id": "3a817026",
   "metadata": {},
   "outputs": [
    {
     "data": {
      "text/plain": [
       "(0.8529162717568549, 0.4527384349673952)"
      ]
     },
     "execution_count": 19,
     "metadata": {},
     "output_type": "execute_result"
    }
   ],
   "source": [
    "from sklearn.linear_model import LinearRegression\n",
    "regression = LinearRegression(fit_intercept = True)\n",
    "Modele = Pipeline(steps=[(\"preprocess\", preprocessor), (\"linear_model\", regression)])\n",
    "Modele.fit(x_train, y_train)\n",
    "train_score = Modele.score(x_train, y_train)\n",
    "test_score = Modele.score(x_test, y_test)\n",
    "\n",
    "train_score, test_score"
   ]
  },
  {
   "cell_type": "code",
   "execution_count": null,
   "id": "dfc7c0bf",
   "metadata": {},
   "outputs": [],
   "source": [
    "##(0.8529162717568549, 0.45015422643530933)"
   ]
  },
  {
   "cell_type": "markdown",
   "id": "0da47858",
   "metadata": {},
   "source": [
    "#### Vérifions Erreur Quadratique Moyenne"
   ]
  },
  {
   "cell_type": "code",
   "execution_count": 217,
   "id": "f9499bd3",
   "metadata": {},
   "outputs": [
    {
     "data": {
      "text/plain": [
       "(759.3460387345258, 952.7232905127324)"
      ]
     },
     "execution_count": 217,
     "metadata": {},
     "output_type": "execute_result"
    }
   ],
   "source": [
    "#### Erreur quadratique moyenne\n",
    "from sklearn.metrics import mean_squared_error \n",
    "\n",
    "y_train_predict = Modele.predict(x_train)\n",
    "y_test_predict = Modele.predict(x_test)\n",
    "erreur_train = mean_squared_error(y_train, y_train_predict, squared = False) \n",
    "erreur_test = mean_squared_error(y_test, y_test_predict, squared = False)\n",
    "\n",
    "erreur_train, erreur_test"
   ]
  },
  {
   "cell_type": "markdown",
   "id": "8fae826c",
   "metadata": {},
   "source": [
    "### Regression LASSO"
   ]
  },
  {
   "cell_type": "code",
   "execution_count": 21,
   "id": "f51e20e8",
   "metadata": {},
   "outputs": [
    {
     "data": {
      "text/plain": [
       "(0.8271798629452891, 0.5241116586951103)"
      ]
     },
     "execution_count": 21,
     "metadata": {},
     "output_type": "execute_result"
    }
   ],
   "source": [
    "from sklearn.linear_model import Lasso\n",
    "\n",
    "lasso = Lasso(fit_intercept = True, alpha = 5)\n",
    "Modele_lasso = Pipeline(steps=[(\"preprocess\", preprocessor), (\"lasso_model\", lasso)])\n",
    "Modele_lasso.fit(x_train, y_train)\n",
    "train_score = Modele_lasso.score(x_train, y_train)\n",
    "test_score = Modele_lasso.score(x_test, y_test)\n",
    "\n",
    "train_score, test_score"
   ]
  },
  {
   "cell_type": "markdown",
   "id": "d9967be3",
   "metadata": {},
   "source": [
    "#### Vérifions Erreur Quadratique Moyenne"
   ]
  },
  {
   "cell_type": "code",
   "execution_count": 219,
   "id": "27750bde",
   "metadata": {},
   "outputs": [
    {
     "data": {
      "text/plain": [
       "(823.193356952202, 884.2709561084579)"
      ]
     },
     "execution_count": 219,
     "metadata": {},
     "output_type": "execute_result"
    }
   ],
   "source": [
    "#### Erreur quadratique moyenne\n",
    "from sklearn.metrics import mean_squared_error \n",
    "\n",
    "y_train_predict = Modele_lasso.predict(x_train)\n",
    "y_test_predict = Modele_lasso.predict(x_test)\n",
    "erreur_train = mean_squared_error(y_train, y_train_predict, squared = False) \n",
    "erreur_test = mean_squared_error(y_test, y_test_predict, squared = False)\n",
    "\n",
    "erreur_train, erreur_test"
   ]
  },
  {
   "cell_type": "markdown",
   "id": "1b28bbbe",
   "metadata": {},
   "source": [
    "### Modèle SGD"
   ]
  },
  {
   "cell_type": "code",
   "execution_count": 24,
   "id": "06c80492",
   "metadata": {
    "scrolled": true
   },
   "outputs": [
    {
     "name": "stderr",
     "output_type": "stream",
     "text": [
      "C:\\Users\\admin\\anaconda3\\lib\\site-packages\\sklearn\\ensemble\\_gb.py:437: DataConversionWarning: A column-vector y was passed when a 1d array was expected. Please change the shape of y to (n_samples, ), for example using ravel().\n",
      "  y = column_or_1d(y, warn=True)\n"
     ]
    },
    {
     "data": {
      "text/plain": [
       "(0.8956577938104787, 0.7199825155307452)"
      ]
     },
     "execution_count": 24,
     "metadata": {},
     "output_type": "execute_result"
    }
   ],
   "source": [
    "from sklearn.ensemble import GradientBoostingRegressor\n",
    "SGD = GradientBoostingRegressor()\n",
    "Modele_SGD = Pipeline(steps=[(\"preprocess\", preprocessor), (\"SGD_model\", SGD)])\n",
    "Modele_SGD.fit(x_train, y_train)\n",
    "train_score = Modele_SGD.score(x_train, y_train)\n",
    "test_score = Modele_SGD.score(x_test, y_test)\n",
    "\n",
    "train_score, test_score"
   ]
  },
  {
   "cell_type": "code",
   "execution_count": null,
   "id": "6a793422",
   "metadata": {},
   "outputs": [],
   "source": [
    "(0.8956577938104787, 0.7179101679967851)"
   ]
  },
  {
   "cell_type": "markdown",
   "id": "be67161f",
   "metadata": {},
   "source": [
    "#### Erreur Quadratique Moyenne"
   ]
  },
  {
   "cell_type": "code",
   "execution_count": 221,
   "id": "245fad39",
   "metadata": {},
   "outputs": [
    {
     "data": {
      "text/plain": [
       "(639.5690281809218, 682.4016256086317)"
      ]
     },
     "execution_count": 221,
     "metadata": {},
     "output_type": "execute_result"
    }
   ],
   "source": [
    "#### Erreur quadratique moyenne\n",
    "from sklearn.metrics import mean_squared_error \n",
    "\n",
    "y_train_predict = Modele_SGB.predict(x_train)\n",
    "y_test_predict = Modele_SGB.predict(x_test)\n",
    "erreur_train = mean_squared_error(y_train, y_train_predict, squared = False) \n",
    "erreur_test = mean_squared_error(y_test, y_test_predict, squared = False)\n",
    "\n",
    "erreur_train, erreur_test"
   ]
  },
  {
   "cell_type": "markdown",
   "id": "f4a27c58",
   "metadata": {},
   "source": [
    "### XGBOOST REGRESSOR"
   ]
  },
  {
   "cell_type": "code",
   "execution_count": 38,
   "id": "edeb5b05",
   "metadata": {},
   "outputs": [],
   "source": [
    "from xgboost.sklearn import XGBRegressor"
   ]
  },
  {
   "cell_type": "code",
   "execution_count": 39,
   "id": "811d9a77",
   "metadata": {},
   "outputs": [],
   "source": [
    "# Creating the Model\n",
    "xgb = XGBRegressor(n_estimators=500, learning_rate=0.05, n_jobs=4)\n",
    "\n",
    "xgb_model = Pipeline(steps=[(\"preprocess\", preprocessor), (\"xgb_model\", xgb)])"
   ]
  },
  {
   "cell_type": "code",
   "execution_count": 49,
   "id": "a74f979f",
   "metadata": {},
   "outputs": [],
   "source": [
    "transformer = preprocessor.fit(x_train, y_train)\n",
    "x_test_eval = transformer.transform(x_test)"
   ]
  },
  {
   "cell_type": "code",
   "execution_count": 50,
   "id": "d30e609a",
   "metadata": {},
   "outputs": [
    {
     "name": "stdout",
     "output_type": "stream",
     "text": [
      "Training: Done!\n",
      "Predictions: Done!\n"
     ]
    },
    {
     "name": "stderr",
     "output_type": "stream",
     "text": [
      "C:\\Users\\admin\\anaconda3\\lib\\site-packages\\xgboost\\sklearn.py:861: UserWarning: `early_stopping_rounds` in `fit` method is deprecated for better compatibility with scikit-learn, use `early_stopping_rounds` in constructor or`set_params` instead.\n",
      "  warnings.warn(\n"
     ]
    }
   ],
   "source": [
    "xgb_model.fit(\n",
    "    x_train, y_train\n",
    "    , xgb_model__early_stopping_rounds=5, xgb_model__eval_set=[(x_test_eval, y_test)], xgb_model__verbose=False)\n",
    "print('Training: Done!')\n",
    "\n",
    "xgb_predictions = xgb_model.predict(x_test)\n",
    "print('Predictions: Done!')"
   ]
  },
  {
   "cell_type": "code",
   "execution_count": 51,
   "id": "03e6c301",
   "metadata": {},
   "outputs": [
    {
     "data": {
      "text/plain": [
       "(0.7514489622213536, 0.6906671933245965)"
      ]
     },
     "execution_count": 51,
     "metadata": {},
     "output_type": "execute_result"
    }
   ],
   "source": [
    "train_score =xgb_model.score(x_train, y_train)\n",
    "test_score = xgb_model.score(x_test, y_test)\n",
    "\n",
    "train_score, test_score"
   ]
  },
  {
   "cell_type": "markdown",
   "id": "ce6bde18",
   "metadata": {},
   "source": [
    "### Erreur Quadratique Moyenne"
   ]
  },
  {
   "cell_type": "code",
   "execution_count": 226,
   "id": "3bd4eb25",
   "metadata": {},
   "outputs": [
    {
     "data": {
      "text/plain": [
       "(987.109217345961, 716.5391732447883)"
      ]
     },
     "execution_count": 226,
     "metadata": {},
     "output_type": "execute_result"
    }
   ],
   "source": [
    "#### Erreur quadratique moyenne\n",
    "from sklearn.metrics import mean_squared_error \n",
    "\n",
    "y_train_predict = xgb_model.predict(x_train)\n",
    "y_test_predict = xgb_model.predict(x_test)\n",
    "erreur_train = mean_squared_error(y_train, y_train_predict, squared = False) \n",
    "erreur_test = mean_squared_error(y_test, y_test_predict, squared = False)\n",
    "\n",
    "erreur_train, erreur_test"
   ]
  },
  {
   "cell_type": "markdown",
   "id": "021c680d",
   "metadata": {},
   "source": [
    "### Modèle Ridge"
   ]
  },
  {
   "cell_type": "markdown",
   "id": "4d7635f4",
   "metadata": {},
   "source": [
    "#### Définition du pipeline"
   ]
  },
  {
   "cell_type": "markdown",
   "id": "767b3fca",
   "metadata": {},
   "source": [
    "def define_pipeline(estimator,\n",
    "                    parameters,\n",
    "                    numeric_transformer,\n",
    "                    categorical_transformer\n",
    "                   ):\n",
    "    \"\"\" Construct a Pipeline from the given transfomers & estimators\n",
    "    \"\"\"\n",
    "    if not parameters:\n",
    "        parameters = dict()\n",
    "    numeric_transformer = make_pipeline(*numeric_transformer)\n",
    "    categorical_transformer = make_pipeline(*categorical_transformer)\n",
    "\n",
    "\n",
    "    preprocessor = ColumnTransformer(\n",
    "        transformers=[\n",
    "            (\"num\", make_pipeline(*numeric_transformer), make_column_selector(dtype_include=\"number\")),\n",
    "            (\"cat\", make_pipeline(*categorical_transformer), make_column_selector(dtype_include=[\"object\"])),\n",
    "        ]\n",
    "    )\n",
    "\n",
    "    # Append estimator to preprocessing pipeline.\n",
    "    # Now we have a full prediction pipeline.\n",
    "    return Pipeline(steps=[(\"preprocessor\", preprocessor), (\"regressor\", estimator(**parameters))])\n",
    "    "
   ]
  },
  {
   "cell_type": "markdown",
   "id": "58a8c6fb",
   "metadata": {},
   "source": [
    "####  Modelisation"
   ]
  },
  {
   "cell_type": "code",
   "execution_count": 52,
   "id": "26de7eb9",
   "metadata": {
    "scrolled": false
   },
   "outputs": [],
   "source": [
    "from sklearn.linear_model import Ridge\n",
    "reg_ridge = Pipeline(steps=[(\"preprocess\", preprocessor), (\"ridge_model\", Ridge())])"
   ]
  },
  {
   "cell_type": "code",
   "execution_count": 53,
   "id": "e4956883",
   "metadata": {},
   "outputs": [
    {
     "name": "stdout",
     "output_type": "stream",
     "text": [
      "Model score - training data: 0.8508909344942003\n",
      "Model score - test data: 0.5024537008735983\n"
     ]
    }
   ],
   "source": [
    "reg_ridge.fit(x_train, y_train)\n",
    "print(f\"Model score - training data: {reg_ridge.score(x_train, y_train)}\")\n",
    "print(f\"Model score - test data: {reg_ridge.score(x_test, y_test)}\")"
   ]
  },
  {
   "cell_type": "code",
   "execution_count": null,
   "id": "fc5b0503",
   "metadata": {},
   "outputs": [],
   "source": [
    "### Au vue des différents résultats fournis par les différents modèles, nous trouvons le XGBOOST REGRESSOR plus éfficace \n",
    "### car nous avons un score supérieur à 50% et l'écart entre le score_train et le score_test est de 6%, qui est le plus\n",
    "### faible comparé aux résultats des autres modèles. Par conséquent, nous allons utiliser ce modèle pour la suite de notre\n",
    "### travail."
   ]
  },
  {
   "cell_type": "markdown",
   "id": "49f13bc3",
   "metadata": {},
   "source": [
    "## EVALUATION DU MODELE"
   ]
  },
  {
   "cell_type": "markdown",
   "id": "65204d7c",
   "metadata": {},
   "source": [
    "### Cross validation"
   ]
  },
  {
   "cell_type": "code",
   "execution_count": 56,
   "id": "ca89a98e",
   "metadata": {
    "scrolled": true
   },
   "outputs": [
    {
     "name": "stderr",
     "output_type": "stream",
     "text": [
      "C:\\Users\\admin\\anaconda3\\lib\\site-packages\\sklearn\\model_selection\\_validation.py:776: UserWarning: Scoring failed. The score on this train-test partition for these parameters will be set to nan. Details: \n",
      "Traceback (most recent call last):\n",
      "  File \"C:\\Users\\admin\\anaconda3\\lib\\site-packages\\sklearn\\metrics\\_scorer.py\", line 75, in _cached_call\n",
      "    return cache[method]\n",
      "KeyError: 'predict'\n",
      "\n",
      "During handling of the above exception, another exception occurred:\n",
      "\n",
      "Traceback (most recent call last):\n",
      "  File \"C:\\Users\\admin\\anaconda3\\lib\\site-packages\\sklearn\\model_selection\\_validation.py\", line 767, in _score\n",
      "    scores = scorer(estimator, X_test, y_test)\n",
      "  File \"C:\\Users\\admin\\anaconda3\\lib\\site-packages\\sklearn\\metrics\\_scorer.py\", line 107, in __call__\n",
      "    score = scorer._score(cached_call, estimator, *args, **kwargs)\n",
      "  File \"C:\\Users\\admin\\anaconda3\\lib\\site-packages\\sklearn\\metrics\\_scorer.py\", line 262, in _score\n",
      "    y_pred = method_caller(estimator, \"predict\", X)\n",
      "  File \"C:\\Users\\admin\\anaconda3\\lib\\site-packages\\sklearn\\metrics\\_scorer.py\", line 77, in _cached_call\n",
      "    result = getattr(estimator, method)(*args, **kwargs)\n",
      "  File \"C:\\Users\\admin\\anaconda3\\lib\\site-packages\\sklearn\\pipeline.py\", line 481, in predict\n",
      "    Xt = transform.transform(Xt)\n",
      "  File \"C:\\Users\\admin\\anaconda3\\lib\\site-packages\\sklearn\\utils\\_set_output.py\", line 142, in wrapped\n",
      "    data_to_wrap = f(self, X, *args, **kwargs)\n",
      "  File \"C:\\Users\\admin\\anaconda3\\lib\\site-packages\\sklearn\\compose\\_column_transformer.py\", line 799, in transform\n",
      "    Xs = self._fit_transform(\n",
      "  File \"C:\\Users\\admin\\anaconda3\\lib\\site-packages\\sklearn\\compose\\_column_transformer.py\", line 657, in _fit_transform\n",
      "    return Parallel(n_jobs=self.n_jobs)(\n",
      "  File \"C:\\Users\\admin\\anaconda3\\lib\\site-packages\\joblib\\parallel.py\", line 1088, in __call__\n",
      "    while self.dispatch_one_batch(iterator):\n",
      "  File \"C:\\Users\\admin\\anaconda3\\lib\\site-packages\\joblib\\parallel.py\", line 901, in dispatch_one_batch\n",
      "    self._dispatch(tasks)\n",
      "  File \"C:\\Users\\admin\\anaconda3\\lib\\site-packages\\joblib\\parallel.py\", line 819, in _dispatch\n",
      "    job = self._backend.apply_async(batch, callback=cb)\n",
      "  File \"C:\\Users\\admin\\anaconda3\\lib\\site-packages\\joblib\\_parallel_backends.py\", line 208, in apply_async\n",
      "    result = ImmediateResult(func)\n",
      "  File \"C:\\Users\\admin\\anaconda3\\lib\\site-packages\\joblib\\_parallel_backends.py\", line 597, in __init__\n",
      "    self.results = batch()\n",
      "  File \"C:\\Users\\admin\\anaconda3\\lib\\site-packages\\joblib\\parallel.py\", line 288, in __call__\n",
      "    return [func(*args, **kwargs)\n",
      "  File \"C:\\Users\\admin\\anaconda3\\lib\\site-packages\\joblib\\parallel.py\", line 288, in <listcomp>\n",
      "    return [func(*args, **kwargs)\n",
      "  File \"C:\\Users\\admin\\anaconda3\\lib\\site-packages\\sklearn\\utils\\fixes.py\", line 117, in __call__\n",
      "    return self.function(*args, **kwargs)\n",
      "  File \"C:\\Users\\admin\\anaconda3\\lib\\site-packages\\sklearn\\pipeline.py\", line 877, in _transform_one\n",
      "    res = transformer.transform(X)\n",
      "  File \"C:\\Users\\admin\\anaconda3\\lib\\site-packages\\sklearn\\pipeline.py\", line 659, in transform\n",
      "    Xt = transform.transform(Xt)\n",
      "  File \"C:\\Users\\admin\\anaconda3\\lib\\site-packages\\sklearn\\utils\\_set_output.py\", line 142, in wrapped\n",
      "    data_to_wrap = f(self, X, *args, **kwargs)\n",
      "  File \"C:\\Users\\admin\\anaconda3\\lib\\site-packages\\sklearn\\preprocessing\\_encoders.py\", line 857, in transform\n",
      "    X_int, X_mask = self._transform(\n",
      "  File \"C:\\Users\\admin\\anaconda3\\lib\\site-packages\\sklearn\\preprocessing\\_encoders.py\", line 154, in _transform\n",
      "    raise ValueError(msg)\n",
      "ValueError: Found unknown categories [0.0, 1.0, 8.0, 23.0] in column 0 during transform\n",
      "\n",
      "  warnings.warn(\n",
      "C:\\Users\\admin\\anaconda3\\lib\\site-packages\\sklearn\\model_selection\\_validation.py:776: UserWarning: Scoring failed. The score on this train-test partition for these parameters will be set to nan. Details: \n",
      "Traceback (most recent call last):\n",
      "  File \"C:\\Users\\admin\\anaconda3\\lib\\site-packages\\sklearn\\metrics\\_scorer.py\", line 75, in _cached_call\n",
      "    return cache[method]\n",
      "KeyError: 'predict'\n",
      "\n",
      "During handling of the above exception, another exception occurred:\n",
      "\n",
      "Traceback (most recent call last):\n",
      "  File \"C:\\Users\\admin\\anaconda3\\lib\\site-packages\\sklearn\\model_selection\\_validation.py\", line 767, in _score\n",
      "    scores = scorer(estimator, X_test, y_test)\n",
      "  File \"C:\\Users\\admin\\anaconda3\\lib\\site-packages\\sklearn\\metrics\\_scorer.py\", line 107, in __call__\n",
      "    score = scorer._score(cached_call, estimator, *args, **kwargs)\n",
      "  File \"C:\\Users\\admin\\anaconda3\\lib\\site-packages\\sklearn\\metrics\\_scorer.py\", line 262, in _score\n",
      "    y_pred = method_caller(estimator, \"predict\", X)\n",
      "  File \"C:\\Users\\admin\\anaconda3\\lib\\site-packages\\sklearn\\metrics\\_scorer.py\", line 77, in _cached_call\n",
      "    result = getattr(estimator, method)(*args, **kwargs)\n",
      "  File \"C:\\Users\\admin\\anaconda3\\lib\\site-packages\\sklearn\\pipeline.py\", line 481, in predict\n",
      "    Xt = transform.transform(Xt)\n",
      "  File \"C:\\Users\\admin\\anaconda3\\lib\\site-packages\\sklearn\\utils\\_set_output.py\", line 142, in wrapped\n",
      "    data_to_wrap = f(self, X, *args, **kwargs)\n",
      "  File \"C:\\Users\\admin\\anaconda3\\lib\\site-packages\\sklearn\\compose\\_column_transformer.py\", line 799, in transform\n",
      "    Xs = self._fit_transform(\n",
      "  File \"C:\\Users\\admin\\anaconda3\\lib\\site-packages\\sklearn\\compose\\_column_transformer.py\", line 657, in _fit_transform\n",
      "    return Parallel(n_jobs=self.n_jobs)(\n",
      "  File \"C:\\Users\\admin\\anaconda3\\lib\\site-packages\\joblib\\parallel.py\", line 1088, in __call__\n",
      "    while self.dispatch_one_batch(iterator):\n",
      "  File \"C:\\Users\\admin\\anaconda3\\lib\\site-packages\\joblib\\parallel.py\", line 901, in dispatch_one_batch\n",
      "    self._dispatch(tasks)\n",
      "  File \"C:\\Users\\admin\\anaconda3\\lib\\site-packages\\joblib\\parallel.py\", line 819, in _dispatch\n",
      "    job = self._backend.apply_async(batch, callback=cb)\n",
      "  File \"C:\\Users\\admin\\anaconda3\\lib\\site-packages\\joblib\\_parallel_backends.py\", line 208, in apply_async\n",
      "    result = ImmediateResult(func)\n",
      "  File \"C:\\Users\\admin\\anaconda3\\lib\\site-packages\\joblib\\_parallel_backends.py\", line 597, in __init__\n",
      "    self.results = batch()\n",
      "  File \"C:\\Users\\admin\\anaconda3\\lib\\site-packages\\joblib\\parallel.py\", line 288, in __call__\n",
      "    return [func(*args, **kwargs)\n",
      "  File \"C:\\Users\\admin\\anaconda3\\lib\\site-packages\\joblib\\parallel.py\", line 288, in <listcomp>\n",
      "    return [func(*args, **kwargs)\n",
      "  File \"C:\\Users\\admin\\anaconda3\\lib\\site-packages\\sklearn\\utils\\fixes.py\", line 117, in __call__\n",
      "    return self.function(*args, **kwargs)\n",
      "  File \"C:\\Users\\admin\\anaconda3\\lib\\site-packages\\sklearn\\pipeline.py\", line 877, in _transform_one\n",
      "    res = transformer.transform(X)\n",
      "  File \"C:\\Users\\admin\\anaconda3\\lib\\site-packages\\sklearn\\pipeline.py\", line 659, in transform\n",
      "    Xt = transform.transform(Xt)\n",
      "  File \"C:\\Users\\admin\\anaconda3\\lib\\site-packages\\sklearn\\utils\\_set_output.py\", line 142, in wrapped\n",
      "    data_to_wrap = f(self, X, *args, **kwargs)\n",
      "  File \"C:\\Users\\admin\\anaconda3\\lib\\site-packages\\sklearn\\preprocessing\\_encoders.py\", line 857, in transform\n",
      "    X_int, X_mask = self._transform(\n",
      "  File \"C:\\Users\\admin\\anaconda3\\lib\\site-packages\\sklearn\\preprocessing\\_encoders.py\", line 154, in _transform\n",
      "    raise ValueError(msg)\n",
      "ValueError: Found unknown categories [20.0] in column 0 during transform\n",
      "\n",
      "  warnings.warn(\n",
      "C:\\Users\\admin\\anaconda3\\lib\\site-packages\\sklearn\\model_selection\\_validation.py:776: UserWarning: Scoring failed. The score on this train-test partition for these parameters will be set to nan. Details: \n",
      "Traceback (most recent call last):\n",
      "  File \"C:\\Users\\admin\\anaconda3\\lib\\site-packages\\sklearn\\metrics\\_scorer.py\", line 75, in _cached_call\n",
      "    return cache[method]\n",
      "KeyError: 'predict'\n",
      "\n",
      "During handling of the above exception, another exception occurred:\n",
      "\n",
      "Traceback (most recent call last):\n",
      "  File \"C:\\Users\\admin\\anaconda3\\lib\\site-packages\\sklearn\\model_selection\\_validation.py\", line 767, in _score\n",
      "    scores = scorer(estimator, X_test, y_test)\n",
      "  File \"C:\\Users\\admin\\anaconda3\\lib\\site-packages\\sklearn\\metrics\\_scorer.py\", line 107, in __call__\n",
      "    score = scorer._score(cached_call, estimator, *args, **kwargs)\n",
      "  File \"C:\\Users\\admin\\anaconda3\\lib\\site-packages\\sklearn\\metrics\\_scorer.py\", line 262, in _score\n",
      "    y_pred = method_caller(estimator, \"predict\", X)\n",
      "  File \"C:\\Users\\admin\\anaconda3\\lib\\site-packages\\sklearn\\metrics\\_scorer.py\", line 77, in _cached_call\n",
      "    result = getattr(estimator, method)(*args, **kwargs)\n",
      "  File \"C:\\Users\\admin\\anaconda3\\lib\\site-packages\\sklearn\\pipeline.py\", line 481, in predict\n",
      "    Xt = transform.transform(Xt)\n",
      "  File \"C:\\Users\\admin\\anaconda3\\lib\\site-packages\\sklearn\\utils\\_set_output.py\", line 142, in wrapped\n",
      "    data_to_wrap = f(self, X, *args, **kwargs)\n",
      "  File \"C:\\Users\\admin\\anaconda3\\lib\\site-packages\\sklearn\\compose\\_column_transformer.py\", line 799, in transform\n",
      "    Xs = self._fit_transform(\n",
      "  File \"C:\\Users\\admin\\anaconda3\\lib\\site-packages\\sklearn\\compose\\_column_transformer.py\", line 657, in _fit_transform\n",
      "    return Parallel(n_jobs=self.n_jobs)(\n",
      "  File \"C:\\Users\\admin\\anaconda3\\lib\\site-packages\\joblib\\parallel.py\", line 1088, in __call__\n",
      "    while self.dispatch_one_batch(iterator):\n",
      "  File \"C:\\Users\\admin\\anaconda3\\lib\\site-packages\\joblib\\parallel.py\", line 901, in dispatch_one_batch\n",
      "    self._dispatch(tasks)\n",
      "  File \"C:\\Users\\admin\\anaconda3\\lib\\site-packages\\joblib\\parallel.py\", line 819, in _dispatch\n",
      "    job = self._backend.apply_async(batch, callback=cb)\n",
      "  File \"C:\\Users\\admin\\anaconda3\\lib\\site-packages\\joblib\\_parallel_backends.py\", line 208, in apply_async\n",
      "    result = ImmediateResult(func)\n",
      "  File \"C:\\Users\\admin\\anaconda3\\lib\\site-packages\\joblib\\_parallel_backends.py\", line 597, in __init__\n",
      "    self.results = batch()\n",
      "  File \"C:\\Users\\admin\\anaconda3\\lib\\site-packages\\joblib\\parallel.py\", line 288, in __call__\n",
      "    return [func(*args, **kwargs)\n",
      "  File \"C:\\Users\\admin\\anaconda3\\lib\\site-packages\\joblib\\parallel.py\", line 288, in <listcomp>\n",
      "    return [func(*args, **kwargs)\n",
      "  File \"C:\\Users\\admin\\anaconda3\\lib\\site-packages\\sklearn\\utils\\fixes.py\", line 117, in __call__\n",
      "    return self.function(*args, **kwargs)\n",
      "  File \"C:\\Users\\admin\\anaconda3\\lib\\site-packages\\sklearn\\pipeline.py\", line 877, in _transform_one\n",
      "    res = transformer.transform(X)\n",
      "  File \"C:\\Users\\admin\\anaconda3\\lib\\site-packages\\sklearn\\pipeline.py\", line 659, in transform\n",
      "    Xt = transform.transform(Xt)\n",
      "  File \"C:\\Users\\admin\\anaconda3\\lib\\site-packages\\sklearn\\utils\\_set_output.py\", line 142, in wrapped\n",
      "    data_to_wrap = f(self, X, *args, **kwargs)\n",
      "  File \"C:\\Users\\admin\\anaconda3\\lib\\site-packages\\sklearn\\preprocessing\\_encoders.py\", line 857, in transform\n",
      "    X_int, X_mask = self._transform(\n",
      "  File \"C:\\Users\\admin\\anaconda3\\lib\\site-packages\\sklearn\\preprocessing\\_encoders.py\", line 154, in _transform\n",
      "    raise ValueError(msg)\n",
      "ValueError: Found unknown categories [11.0] in column 0 during transform\n",
      "\n",
      "  warnings.warn(\n"
     ]
    },
    {
     "data": {
      "text/html": [
       "<div>\n",
       "<style scoped>\n",
       "    .dataframe tbody tr th:only-of-type {\n",
       "        vertical-align: middle;\n",
       "    }\n",
       "\n",
       "    .dataframe tbody tr th {\n",
       "        vertical-align: top;\n",
       "    }\n",
       "\n",
       "    .dataframe thead th {\n",
       "        text-align: right;\n",
       "    }\n",
       "</style>\n",
       "<table border=\"1\" class=\"dataframe\">\n",
       "  <thead>\n",
       "    <tr style=\"text-align: right;\">\n",
       "      <th></th>\n",
       "      <th>fit_time</th>\n",
       "      <th>score_time</th>\n",
       "      <th>test_r2</th>\n",
       "      <th>train_r2</th>\n",
       "      <th>test_neg_mean_squared_error</th>\n",
       "      <th>train_neg_mean_squared_error</th>\n",
       "      <th>test_neg_mean_absolute_percentage_error</th>\n",
       "      <th>train_neg_mean_absolute_percentage_error</th>\n",
       "      <th>test_neg_mean_absolute_error</th>\n",
       "      <th>train_neg_mean_absolute_error</th>\n",
       "    </tr>\n",
       "  </thead>\n",
       "  <tbody>\n",
       "    <tr>\n",
       "      <th>0</th>\n",
       "      <td>0.469221</td>\n",
       "      <td>0.012533</td>\n",
       "      <td>NaN</td>\n",
       "      <td>0.988812</td>\n",
       "      <td>NaN</td>\n",
       "      <td>-42663.244157</td>\n",
       "      <td>NaN</td>\n",
       "      <td>-0.753164</td>\n",
       "      <td>NaN</td>\n",
       "      <td>-134.808180</td>\n",
       "    </tr>\n",
       "    <tr>\n",
       "      <th>1</th>\n",
       "      <td>0.487113</td>\n",
       "      <td>0.027847</td>\n",
       "      <td>0.819171</td>\n",
       "      <td>0.985347</td>\n",
       "      <td>-9.294936e+05</td>\n",
       "      <td>-51732.315477</td>\n",
       "      <td>-0.304563</td>\n",
       "      <td>-1.274520</td>\n",
       "      <td>-593.129618</td>\n",
       "      <td>-151.188445</td>\n",
       "    </tr>\n",
       "    <tr>\n",
       "      <th>2</th>\n",
       "      <td>0.468219</td>\n",
       "      <td>0.028597</td>\n",
       "      <td>0.660278</td>\n",
       "      <td>0.982181</td>\n",
       "      <td>-1.115545e+06</td>\n",
       "      <td>-72569.078775</td>\n",
       "      <td>-0.402708</td>\n",
       "      <td>-1.489764</td>\n",
       "      <td>-710.561634</td>\n",
       "      <td>-173.924027</td>\n",
       "    </tr>\n",
       "    <tr>\n",
       "      <th>3</th>\n",
       "      <td>0.492882</td>\n",
       "      <td>0.015004</td>\n",
       "      <td>NaN</td>\n",
       "      <td>0.985832</td>\n",
       "      <td>NaN</td>\n",
       "      <td>-59292.797829</td>\n",
       "      <td>NaN</td>\n",
       "      <td>-1.468737</td>\n",
       "      <td>NaN</td>\n",
       "      <td>-160.997671</td>\n",
       "    </tr>\n",
       "    <tr>\n",
       "      <th>4</th>\n",
       "      <td>0.461132</td>\n",
       "      <td>0.012274</td>\n",
       "      <td>NaN</td>\n",
       "      <td>0.985679</td>\n",
       "      <td>NaN</td>\n",
       "      <td>-56762.903709</td>\n",
       "      <td>NaN</td>\n",
       "      <td>-0.556660</td>\n",
       "      <td>NaN</td>\n",
       "      <td>-156.829143</td>\n",
       "    </tr>\n",
       "  </tbody>\n",
       "</table>\n",
       "</div>"
      ],
      "text/plain": [
       "   fit_time  score_time   test_r2  train_r2  test_neg_mean_squared_error  \\\n",
       "0  0.469221    0.012533       NaN  0.988812                          NaN   \n",
       "1  0.487113    0.027847  0.819171  0.985347                -9.294936e+05   \n",
       "2  0.468219    0.028597  0.660278  0.982181                -1.115545e+06   \n",
       "3  0.492882    0.015004       NaN  0.985832                          NaN   \n",
       "4  0.461132    0.012274       NaN  0.985679                          NaN   \n",
       "\n",
       "   train_neg_mean_squared_error  test_neg_mean_absolute_percentage_error  \\\n",
       "0                 -42663.244157                                      NaN   \n",
       "1                 -51732.315477                                -0.304563   \n",
       "2                 -72569.078775                                -0.402708   \n",
       "3                 -59292.797829                                      NaN   \n",
       "4                 -56762.903709                                      NaN   \n",
       "\n",
       "   train_neg_mean_absolute_percentage_error  test_neg_mean_absolute_error  \\\n",
       "0                                 -0.753164                           NaN   \n",
       "1                                 -1.274520                   -593.129618   \n",
       "2                                 -1.489764                   -710.561634   \n",
       "3                                 -1.468737                           NaN   \n",
       "4                                 -0.556660                           NaN   \n",
       "\n",
       "   train_neg_mean_absolute_error  \n",
       "0                    -134.808180  \n",
       "1                    -151.188445  \n",
       "2                    -173.924027  \n",
       "3                    -160.997671  \n",
       "4                    -156.829143  "
      ]
     },
     "execution_count": 56,
     "metadata": {},
     "output_type": "execute_result"
    }
   ],
   "source": [
    "from sklearn.model_selection import cross_validate\n",
    "\n",
    "cv_results = cross_validate(xgb_model,\n",
    "                            x_train, y_train,\n",
    "                            cv=5,\n",
    "                            scoring=(\"r2\", \"neg_mean_squared_error\",\n",
    "                                     \"neg_mean_absolute_percentage_error\", \"neg_mean_absolute_error\"),\n",
    "                            return_train_score=True)\n",
    "cv_result_xgb_model = pd.DataFrame(cv_results)\n",
    "cv_result_xgb_model"
   ]
  },
  {
   "cell_type": "code",
   "execution_count": 79,
   "id": "7f9703ba",
   "metadata": {},
   "outputs": [
    {
     "data": {
      "image/png": "[encoded data removed]",
      "text/plain": [
       "<Figure size 1080x576 with 1 Axes>"
      ]
     },
     "metadata": {
      "needs_background": "light"
     },
     "output_type": "display_data"
    }
   ],
   "source": [
    "cv_result_xgb_model[[\"train_r2\", \"test_r2\"]].plot(kind=\"barh\", figsize=(15, 8));"
   ]
  },
  {
   "cell_type": "markdown",
   "id": "df6b63ef",
   "metadata": {},
   "source": [
    "### Feature importances"
   ]
  },
  {
   "cell_type": "code",
   "execution_count": 57,
   "id": "0c818c97",
   "metadata": {},
   "outputs": [],
   "source": [
    "from xgboost import plot_importance\n",
    "import xgboost as xgb"
   ]
  },
  {
   "cell_type": "code",
   "execution_count": 62,
   "id": "7bd4cf52",
   "metadata": {},
   "outputs": [
    {
     "data": {
      "image/png": "[encoded data removed]",
      "text/plain": [
       "<Figure size 720x1080 with 1 Axes>"
      ]
     },
     "metadata": {
      "needs_background": "light"
     },
     "output_type": "display_data"
    }
   ],
   "source": [
    "xgb.plot_importance(xgb_model[1])\n",
    "plt.rcParams['figure.figsize'] = [15, 15]\n",
    "plt.show()"
   ]
  },
  {
   "cell_type": "markdown",
   "id": "69c424a7",
   "metadata": {},
   "source": [
    "### Prédiction "
   ]
  },
  {
   "cell_type": "code",
   "execution_count": 90,
   "id": "e399a17b",
   "metadata": {},
   "outputs": [],
   "source": [
    "test = pd.read_csv('test.csv')"
   ]
  },
  {
   "cell_type": "code",
   "execution_count": 91,
   "id": "57f49044",
   "metadata": {},
   "outputs": [
    {
     "data": {
      "text/html": [
       "<div>\n",
       "<style scoped>\n",
       "    .dataframe tbody tr th:only-of-type {\n",
       "        vertical-align: middle;\n",
       "    }\n",
       "\n",
       "    .dataframe tbody tr th {\n",
       "        vertical-align: top;\n",
       "    }\n",
       "\n",
       "    .dataframe thead th {\n",
       "        text-align: right;\n",
       "    }\n",
       "</style>\n",
       "<table border=\"1\" class=\"dataframe\">\n",
       "  <thead>\n",
       "    <tr style=\"text-align: right;\">\n",
       "      <th></th>\n",
       "      <th>ID</th>\n",
       "      <th>shop_id</th>\n",
       "      <th>item_id</th>\n",
       "    </tr>\n",
       "  </thead>\n",
       "  <tbody>\n",
       "    <tr>\n",
       "      <th>0</th>\n",
       "      <td>0</td>\n",
       "      <td>5</td>\n",
       "      <td>5037</td>\n",
       "    </tr>\n",
       "    <tr>\n",
       "      <th>1</th>\n",
       "      <td>1</td>\n",
       "      <td>5</td>\n",
       "      <td>5320</td>\n",
       "    </tr>\n",
       "    <tr>\n",
       "      <th>2</th>\n",
       "      <td>2</td>\n",
       "      <td>5</td>\n",
       "      <td>5233</td>\n",
       "    </tr>\n",
       "    <tr>\n",
       "      <th>3</th>\n",
       "      <td>3</td>\n",
       "      <td>5</td>\n",
       "      <td>5232</td>\n",
       "    </tr>\n",
       "    <tr>\n",
       "      <th>4</th>\n",
       "      <td>4</td>\n",
       "      <td>5</td>\n",
       "      <td>5268</td>\n",
       "    </tr>\n",
       "  </tbody>\n",
       "</table>\n",
       "</div>"
      ],
      "text/plain": [
       "   ID  shop_id  item_id\n",
       "0   0        5     5037\n",
       "1   1        5     5320\n",
       "2   2        5     5233\n",
       "3   3        5     5232\n",
       "4   4        5     5268"
      ]
     },
     "execution_count": 91,
     "metadata": {},
     "output_type": "execute_result"
    }
   ],
   "source": [
    "test.head()"
   ]
  },
  {
   "cell_type": "code",
   "execution_count": 92,
   "id": "58a63a3d",
   "metadata": {},
   "outputs": [],
   "source": [
    "test['date_block_num']=34"
   ]
  },
  {
   "cell_type": "code",
   "execution_count": 93,
   "id": "242651ab",
   "metadata": {},
   "outputs": [],
   "source": [
    "test['shop_id'] =test['shop_id'].astype(str)\n"
   ]
  },
  {
   "cell_type": "code",
   "execution_count": 94,
   "id": "12b020b7",
   "metadata": {},
   "outputs": [
    {
     "data": {
      "text/plain": [
       "array(['0', '1', '2', '3', '4', '6', '7', '8', '10', '12', '13', '14',\n",
       "       '15', '16', '18', '19', '21', '22', '23', '24', '25', '26', '27',\n",
       "       '28', '29', '30', '31', '32', '35', '37', '38', '41', '42', '43',\n",
       "       '44', '45', '46', '47', '50', '51', '52', '53', '54', '56', '59',\n",
       "       '5', '57', '58', '55', '17', '9', '49', '39', '40', '48', '34',\n",
       "       '33', '20', '11'], dtype=object)"
      ]
     },
     "execution_count": 94,
     "metadata": {},
     "output_type": "execute_result"
    }
   ],
   "source": [
    "final_train_df[\"shop_id\"].unique()"
   ]
  },
  {
   "cell_type": "code",
   "execution_count": 95,
   "id": "4b5d8408",
   "metadata": {},
   "outputs": [
    {
     "data": {
      "text/html": [
       "<div>\n",
       "<style scoped>\n",
       "    .dataframe tbody tr th:only-of-type {\n",
       "        vertical-align: middle;\n",
       "    }\n",
       "\n",
       "    .dataframe tbody tr th {\n",
       "        vertical-align: top;\n",
       "    }\n",
       "\n",
       "    .dataframe thead th {\n",
       "        text-align: right;\n",
       "    }\n",
       "</style>\n",
       "<table border=\"1\" class=\"dataframe\">\n",
       "  <thead>\n",
       "    <tr style=\"text-align: right;\">\n",
       "      <th></th>\n",
       "      <th>shop_id</th>\n",
       "      <th>date_block_num</th>\n",
       "    </tr>\n",
       "  </thead>\n",
       "  <tbody>\n",
       "    <tr>\n",
       "      <th>0</th>\n",
       "      <td>10</td>\n",
       "      <td>34</td>\n",
       "    </tr>\n",
       "    <tr>\n",
       "      <th>1</th>\n",
       "      <td>12</td>\n",
       "      <td>34</td>\n",
       "    </tr>\n",
       "    <tr>\n",
       "      <th>2</th>\n",
       "      <td>14</td>\n",
       "      <td>34</td>\n",
       "    </tr>\n",
       "    <tr>\n",
       "      <th>3</th>\n",
       "      <td>15</td>\n",
       "      <td>34</td>\n",
       "    </tr>\n",
       "    <tr>\n",
       "      <th>4</th>\n",
       "      <td>16</td>\n",
       "      <td>34</td>\n",
       "    </tr>\n",
       "  </tbody>\n",
       "</table>\n",
       "</div>"
      ],
      "text/plain": [
       "  shop_id  date_block_num\n",
       "0      10              34\n",
       "1      12              34\n",
       "2      14              34\n",
       "3      15              34\n",
       "4      16              34"
      ]
     },
     "execution_count": 95,
     "metadata": {},
     "output_type": "execute_result"
    }
   ],
   "source": [
    "test_group = test.groupby(['shop_id', 'date_block_num'], as_index=False).agg({'ID':'count'}).drop('ID', axis =1)\n",
    "test_group = test_group.loc[test_group.shop_id.isin(final_train_df[\"shop_id\"].unique()), :]\n",
    "test_group.head()"
   ]
  },
  {
   "cell_type": "code",
   "execution_count": 97,
   "id": "15f9aaf6",
   "metadata": {},
   "outputs": [],
   "source": [
    "prediction = xgb_model.predict(test_group)"
   ]
  },
  {
   "cell_type": "code",
   "execution_count": 99,
   "id": "153b5fbe",
   "metadata": {},
   "outputs": [],
   "source": [
    "test_group['prediction']=prediction"
   ]
  },
  {
   "cell_type": "code",
   "execution_count": 107,
   "id": "f1392baa",
   "metadata": {},
   "outputs": [],
   "source": [
    "prediction_significative = test_group.loc[test_group.prediction!=1434.786255]"
   ]
  },
  {
   "cell_type": "code",
   "execution_count": 109,
   "id": "1cd694dd",
   "metadata": {},
   "outputs": [
    {
     "data": {
      "text/html": [
       "<div>\n",
       "<style scoped>\n",
       "    .dataframe tbody tr th:only-of-type {\n",
       "        vertical-align: middle;\n",
       "    }\n",
       "\n",
       "    .dataframe tbody tr th {\n",
       "        vertical-align: top;\n",
       "    }\n",
       "\n",
       "    .dataframe thead th {\n",
       "        text-align: right;\n",
       "    }\n",
       "</style>\n",
       "<table border=\"1\" class=\"dataframe\">\n",
       "  <thead>\n",
       "    <tr style=\"text-align: right;\">\n",
       "      <th></th>\n",
       "      <th>shop_id</th>\n",
       "      <th>date_block_num</th>\n",
       "      <th>prediction</th>\n",
       "    </tr>\n",
       "  </thead>\n",
       "  <tbody>\n",
       "    <tr>\n",
       "      <th>0</th>\n",
       "      <td>10</td>\n",
       "      <td>34</td>\n",
       "      <td>1351.352661</td>\n",
       "    </tr>\n",
       "    <tr>\n",
       "      <th>11</th>\n",
       "      <td>25</td>\n",
       "      <td>34</td>\n",
       "      <td>5128.038574</td>\n",
       "    </tr>\n",
       "    <tr>\n",
       "      <th>13</th>\n",
       "      <td>28</td>\n",
       "      <td>34</td>\n",
       "      <td>2981.384766</td>\n",
       "    </tr>\n",
       "    <tr>\n",
       "      <th>15</th>\n",
       "      <td>31</td>\n",
       "      <td>34</td>\n",
       "      <td>6475.961426</td>\n",
       "    </tr>\n",
       "    <tr>\n",
       "      <th>16</th>\n",
       "      <td>34</td>\n",
       "      <td>34</td>\n",
       "      <td>1287.189087</td>\n",
       "    </tr>\n",
       "    <tr>\n",
       "      <th>24</th>\n",
       "      <td>42</td>\n",
       "      <td>34</td>\n",
       "      <td>3228.170654</td>\n",
       "    </tr>\n",
       "    <tr>\n",
       "      <th>30</th>\n",
       "      <td>49</td>\n",
       "      <td>34</td>\n",
       "      <td>1386.714844</td>\n",
       "    </tr>\n",
       "    <tr>\n",
       "      <th>35</th>\n",
       "      <td>55</td>\n",
       "      <td>34</td>\n",
       "      <td>1600.860718</td>\n",
       "    </tr>\n",
       "    <tr>\n",
       "      <th>37</th>\n",
       "      <td>57</td>\n",
       "      <td>34</td>\n",
       "      <td>2503.971680</td>\n",
       "    </tr>\n",
       "    <tr>\n",
       "      <th>40</th>\n",
       "      <td>6</td>\n",
       "      <td>34</td>\n",
       "      <td>1543.302246</td>\n",
       "    </tr>\n",
       "  </tbody>\n",
       "</table>\n",
       "</div>"
      ],
      "text/plain": [
       "   shop_id  date_block_num   prediction\n",
       "0       10              34  1351.352661\n",
       "11      25              34  5128.038574\n",
       "13      28              34  2981.384766\n",
       "15      31              34  6475.961426\n",
       "16      34              34  1287.189087\n",
       "24      42              34  3228.170654\n",
       "30      49              34  1386.714844\n",
       "35      55              34  1600.860718\n",
       "37      57              34  2503.971680\n",
       "40       6              34  1543.302246"
      ]
     },
     "execution_count": 109,
     "metadata": {},
     "output_type": "execute_result"
    }
   ],
   "source": [
    "prediction_significative.head(20)"
   ]
  },
  {
   "cell_type": "markdown",
   "id": "43eb5847",
   "metadata": {},
   "source": []
  }
 ],
 "metadata": {
  "celltoolbar": "Aucun(e)",
  "kernelspec": {
   "display_name": "Python 3 (ipykernel)",
   "language": "python",
   "name": "python3"
  },
  "language_info": {
   "codemirror_mode": {
    "name": "ipython",
    "version": 3
   },
   "file_extension": ".py",
   "mimetype": "text/x-python",
   "name": "python",
   "nbconvert_exporter": "python",
   "pygments_lexer": "ipython3",
   "version": "3.9.7"
  },
  "vscode": {
   "interpreter": {
    "hash": "f3a52463084db90f96d29dcfcfd9bf276dba3c521d76c4c38c835392b64a093b"
   }
  }
 },
 "nbformat": 4,
 "nbformat_minor": 5
}
